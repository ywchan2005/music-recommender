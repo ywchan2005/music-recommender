{
  "nbformat": 4,
  "nbformat_minor": 0,
  "metadata": {
    "colab": {
      "provenance": []
    },
    "kernelspec": {
      "name": "python3",
      "display_name": "Python 3"
    },
    "language_info": {
      "name": "python"
    },
    "widgets": {
      "application/vnd.jupyter.widget-state+json": {
        "e9a616c3ea4b45fa9c8773068d87ce55": {
          "model_module": "@jupyter-widgets/controls",
          "model_name": "HBoxModel",
          "model_module_version": "1.5.0",
          "state": {
            "_dom_classes": [],
            "_model_module": "@jupyter-widgets/controls",
            "_model_module_version": "1.5.0",
            "_model_name": "HBoxModel",
            "_view_count": null,
            "_view_module": "@jupyter-widgets/controls",
            "_view_module_version": "1.5.0",
            "_view_name": "HBoxView",
            "box_style": "",
            "children": [
              "IPY_MODEL_f42d9f285a984ae48513946eaf9d0469",
              "IPY_MODEL_44bd8c0ddada47cbaf214e67731a680e",
              "IPY_MODEL_9e67a1ecc0964aa6887f1bec2d653133"
            ],
            "layout": "IPY_MODEL_d1e7664b69fe4057aaa16f15e1ceec80"
          }
        },
        "f42d9f285a984ae48513946eaf9d0469": {
          "model_module": "@jupyter-widgets/controls",
          "model_name": "HTMLModel",
          "model_module_version": "1.5.0",
          "state": {
            "_dom_classes": [],
            "_model_module": "@jupyter-widgets/controls",
            "_model_module_version": "1.5.0",
            "_model_name": "HTMLModel",
            "_view_count": null,
            "_view_module": "@jupyter-widgets/controls",
            "_view_module_version": "1.5.0",
            "_view_name": "HTMLView",
            "description": "",
            "description_tooltip": null,
            "layout": "IPY_MODEL_afb73998b00c4139b16b648a8942b245",
            "placeholder": "​",
            "style": "IPY_MODEL_921075a3997e4d75ab53c78ede42665b",
            "value": "100%"
          }
        },
        "44bd8c0ddada47cbaf214e67731a680e": {
          "model_module": "@jupyter-widgets/controls",
          "model_name": "FloatProgressModel",
          "model_module_version": "1.5.0",
          "state": {
            "_dom_classes": [],
            "_model_module": "@jupyter-widgets/controls",
            "_model_module_version": "1.5.0",
            "_model_name": "FloatProgressModel",
            "_view_count": null,
            "_view_module": "@jupyter-widgets/controls",
            "_view_module_version": "1.5.0",
            "_view_name": "ProgressView",
            "bar_style": "success",
            "description": "",
            "description_tooltip": null,
            "layout": "IPY_MODEL_63738bd47b2045d3b1ead782664a070b",
            "max": 300,
            "min": 0,
            "orientation": "horizontal",
            "style": "IPY_MODEL_22563ab9ad7b441dbfb9e03f8a1d9ab6",
            "value": 300
          }
        },
        "9e67a1ecc0964aa6887f1bec2d653133": {
          "model_module": "@jupyter-widgets/controls",
          "model_name": "HTMLModel",
          "model_module_version": "1.5.0",
          "state": {
            "_dom_classes": [],
            "_model_module": "@jupyter-widgets/controls",
            "_model_module_version": "1.5.0",
            "_model_name": "HTMLModel",
            "_view_count": null,
            "_view_module": "@jupyter-widgets/controls",
            "_view_module_version": "1.5.0",
            "_view_name": "HTMLView",
            "description": "",
            "description_tooltip": null,
            "layout": "IPY_MODEL_533aa653a2c84fd88aa278c9143d084f",
            "placeholder": "​",
            "style": "IPY_MODEL_2f2561a499fe4cf6a8fa17e3b0f5d390",
            "value": " 300/300 [18:16&lt;00:00,  3.59s/it]"
          }
        },
        "d1e7664b69fe4057aaa16f15e1ceec80": {
          "model_module": "@jupyter-widgets/base",
          "model_name": "LayoutModel",
          "model_module_version": "1.2.0",
          "state": {
            "_model_module": "@jupyter-widgets/base",
            "_model_module_version": "1.2.0",
            "_model_name": "LayoutModel",
            "_view_count": null,
            "_view_module": "@jupyter-widgets/base",
            "_view_module_version": "1.2.0",
            "_view_name": "LayoutView",
            "align_content": null,
            "align_items": null,
            "align_self": null,
            "border": null,
            "bottom": null,
            "display": null,
            "flex": null,
            "flex_flow": null,
            "grid_area": null,
            "grid_auto_columns": null,
            "grid_auto_flow": null,
            "grid_auto_rows": null,
            "grid_column": null,
            "grid_gap": null,
            "grid_row": null,
            "grid_template_areas": null,
            "grid_template_columns": null,
            "grid_template_rows": null,
            "height": null,
            "justify_content": null,
            "justify_items": null,
            "left": null,
            "margin": null,
            "max_height": null,
            "max_width": null,
            "min_height": null,
            "min_width": null,
            "object_fit": null,
            "object_position": null,
            "order": null,
            "overflow": null,
            "overflow_x": null,
            "overflow_y": null,
            "padding": null,
            "right": null,
            "top": null,
            "visibility": null,
            "width": null
          }
        },
        "afb73998b00c4139b16b648a8942b245": {
          "model_module": "@jupyter-widgets/base",
          "model_name": "LayoutModel",
          "model_module_version": "1.2.0",
          "state": {
            "_model_module": "@jupyter-widgets/base",
            "_model_module_version": "1.2.0",
            "_model_name": "LayoutModel",
            "_view_count": null,
            "_view_module": "@jupyter-widgets/base",
            "_view_module_version": "1.2.0",
            "_view_name": "LayoutView",
            "align_content": null,
            "align_items": null,
            "align_self": null,
            "border": null,
            "bottom": null,
            "display": null,
            "flex": null,
            "flex_flow": null,
            "grid_area": null,
            "grid_auto_columns": null,
            "grid_auto_flow": null,
            "grid_auto_rows": null,
            "grid_column": null,
            "grid_gap": null,
            "grid_row": null,
            "grid_template_areas": null,
            "grid_template_columns": null,
            "grid_template_rows": null,
            "height": null,
            "justify_content": null,
            "justify_items": null,
            "left": null,
            "margin": null,
            "max_height": null,
            "max_width": null,
            "min_height": null,
            "min_width": null,
            "object_fit": null,
            "object_position": null,
            "order": null,
            "overflow": null,
            "overflow_x": null,
            "overflow_y": null,
            "padding": null,
            "right": null,
            "top": null,
            "visibility": null,
            "width": null
          }
        },
        "921075a3997e4d75ab53c78ede42665b": {
          "model_module": "@jupyter-widgets/controls",
          "model_name": "DescriptionStyleModel",
          "model_module_version": "1.5.0",
          "state": {
            "_model_module": "@jupyter-widgets/controls",
            "_model_module_version": "1.5.0",
            "_model_name": "DescriptionStyleModel",
            "_view_count": null,
            "_view_module": "@jupyter-widgets/base",
            "_view_module_version": "1.2.0",
            "_view_name": "StyleView",
            "description_width": ""
          }
        },
        "63738bd47b2045d3b1ead782664a070b": {
          "model_module": "@jupyter-widgets/base",
          "model_name": "LayoutModel",
          "model_module_version": "1.2.0",
          "state": {
            "_model_module": "@jupyter-widgets/base",
            "_model_module_version": "1.2.0",
            "_model_name": "LayoutModel",
            "_view_count": null,
            "_view_module": "@jupyter-widgets/base",
            "_view_module_version": "1.2.0",
            "_view_name": "LayoutView",
            "align_content": null,
            "align_items": null,
            "align_self": null,
            "border": null,
            "bottom": null,
            "display": null,
            "flex": null,
            "flex_flow": null,
            "grid_area": null,
            "grid_auto_columns": null,
            "grid_auto_flow": null,
            "grid_auto_rows": null,
            "grid_column": null,
            "grid_gap": null,
            "grid_row": null,
            "grid_template_areas": null,
            "grid_template_columns": null,
            "grid_template_rows": null,
            "height": null,
            "justify_content": null,
            "justify_items": null,
            "left": null,
            "margin": null,
            "max_height": null,
            "max_width": null,
            "min_height": null,
            "min_width": null,
            "object_fit": null,
            "object_position": null,
            "order": null,
            "overflow": null,
            "overflow_x": null,
            "overflow_y": null,
            "padding": null,
            "right": null,
            "top": null,
            "visibility": null,
            "width": null
          }
        },
        "22563ab9ad7b441dbfb9e03f8a1d9ab6": {
          "model_module": "@jupyter-widgets/controls",
          "model_name": "ProgressStyleModel",
          "model_module_version": "1.5.0",
          "state": {
            "_model_module": "@jupyter-widgets/controls",
            "_model_module_version": "1.5.0",
            "_model_name": "ProgressStyleModel",
            "_view_count": null,
            "_view_module": "@jupyter-widgets/base",
            "_view_module_version": "1.2.0",
            "_view_name": "StyleView",
            "bar_color": null,
            "description_width": ""
          }
        },
        "533aa653a2c84fd88aa278c9143d084f": {
          "model_module": "@jupyter-widgets/base",
          "model_name": "LayoutModel",
          "model_module_version": "1.2.0",
          "state": {
            "_model_module": "@jupyter-widgets/base",
            "_model_module_version": "1.2.0",
            "_model_name": "LayoutModel",
            "_view_count": null,
            "_view_module": "@jupyter-widgets/base",
            "_view_module_version": "1.2.0",
            "_view_name": "LayoutView",
            "align_content": null,
            "align_items": null,
            "align_self": null,
            "border": null,
            "bottom": null,
            "display": null,
            "flex": null,
            "flex_flow": null,
            "grid_area": null,
            "grid_auto_columns": null,
            "grid_auto_flow": null,
            "grid_auto_rows": null,
            "grid_column": null,
            "grid_gap": null,
            "grid_row": null,
            "grid_template_areas": null,
            "grid_template_columns": null,
            "grid_template_rows": null,
            "height": null,
            "justify_content": null,
            "justify_items": null,
            "left": null,
            "margin": null,
            "max_height": null,
            "max_width": null,
            "min_height": null,
            "min_width": null,
            "object_fit": null,
            "object_position": null,
            "order": null,
            "overflow": null,
            "overflow_x": null,
            "overflow_y": null,
            "padding": null,
            "right": null,
            "top": null,
            "visibility": null,
            "width": null
          }
        },
        "2f2561a499fe4cf6a8fa17e3b0f5d390": {
          "model_module": "@jupyter-widgets/controls",
          "model_name": "DescriptionStyleModel",
          "model_module_version": "1.5.0",
          "state": {
            "_model_module": "@jupyter-widgets/controls",
            "_model_module_version": "1.5.0",
            "_model_name": "DescriptionStyleModel",
            "_view_count": null,
            "_view_module": "@jupyter-widgets/base",
            "_view_module_version": "1.2.0",
            "_view_name": "StyleView",
            "description_width": ""
          }
        }
      }
    }
  },
  "cells": [
    {
      "cell_type": "code",
      "source": [
        "!pip install -q torch_geometric"
      ],
      "metadata": {
        "colab": {
          "base_uri": "https://localhost:8080/"
        },
        "id": "GVgzOxUms3ga",
        "outputId": "95ba5e2f-8620-4113-df08-7c2669d464d3"
      },
      "execution_count": 1,
      "outputs": [
        {
          "output_type": "stream",
          "name": "stdout",
          "text": [
            "\u001b[?25l     \u001b[90m━━━━━━━━━━━━━━━━━━━━━━━━━━━━━━━━━━━━━━━━\u001b[0m \u001b[32m0.0/661.6 kB\u001b[0m \u001b[31m?\u001b[0m eta \u001b[36m-:--:--\u001b[0m\r\u001b[2K     \u001b[91m━━━━━━━━━━━━━━━━━━\u001b[0m\u001b[90m╺\u001b[0m\u001b[90m━━━━━━━━━━━━━━━━━━━━\u001b[0m \u001b[32m307.2/661.6 kB\u001b[0m \u001b[31m9.3 MB/s\u001b[0m eta \u001b[36m0:00:01\u001b[0m\r\u001b[2K     \u001b[90m━━━━━━━━━━━━━━━━━━━━━━━━━━━━━━━━━━━━━━\u001b[0m \u001b[32m661.6/661.6 kB\u001b[0m \u001b[31m11.5 MB/s\u001b[0m eta \u001b[36m0:00:00\u001b[0m\n",
            "\u001b[?25h  Installing build dependencies ... \u001b[?25l\u001b[?25hdone\n",
            "  Getting requirements to build wheel ... \u001b[?25l\u001b[?25hdone\n",
            "  Preparing metadata (pyproject.toml) ... \u001b[?25l\u001b[?25hdone\n",
            "  Building wheel for torch_geometric (pyproject.toml) ... \u001b[?25l\u001b[?25hdone\n"
          ]
        }
      ]
    },
    {
      "cell_type": "code",
      "execution_count": 2,
      "metadata": {
        "id": "01LRZRlBn8vN"
      },
      "outputs": [],
      "source": [
        "from ast import literal_eval\n",
        "import json\n",
        "import pandas as pd\n",
        "import sklearn as sk\n",
        "import sklearn.model_selection\n",
        "import sklearn.metrics\n",
        "import torch\n",
        "from tqdm.notebook import trange"
      ]
    },
    {
      "cell_type": "code",
      "source": [
        "from torch_geometric.data import Data\n",
        "from torch_geometric.loader import DataLoader\n",
        "from torch_geometric.nn import LightGCN\n",
        "from torch_geometric.utils import structured_negative_sampling"
      ],
      "metadata": {
        "id": "aTNS7DSaXix6"
      },
      "execution_count": 106,
      "outputs": []
    },
    {
      "cell_type": "code",
      "source": [
        "device = torch.device('cuda' if torch.cuda.is_available() else 'cpu')"
      ],
      "metadata": {
        "id": "akCBDxdBYy7A"
      },
      "execution_count": 4,
      "outputs": []
    },
    {
      "cell_type": "markdown",
      "source": [
        "# load playlist data"
      ],
      "metadata": {
        "id": "49uxdsufhB6l"
      }
    },
    {
      "cell_type": "code",
      "source": [
        "def load_playlists(filepath):\n",
        "  with open(filepath, 'r') as f:\n",
        "    jobj = json.load(f)\n",
        "    playlists = jobj['playlists']\n",
        "  return pd.DataFrame(data={\n",
        "      'playlist_id': [playlist['pid'] for playlist in playlists],\n",
        "      # 'artist': [[track['artist_uri'] for track in playlist['tracks']] for playlist in playlists],\n",
        "      'track': [[track['track_uri'] for track in playlist['tracks']] for playlist in playlists],\n",
        "  }).explode('track').reset_index(drop=True)"
      ],
      "metadata": {
        "id": "HGQAvrhQnsQR"
      },
      "execution_count": 6,
      "outputs": []
    },
    {
      "cell_type": "code",
      "source": [
        "df = pd.concat([load_playlists(filepath) for filepath in [\n",
        "    './mpd.slice.0-999.json',\n",
        "    './mpd.slice.1000-1999.json',\n",
        "    './mpd.slice.2000-2999.json',\n",
        "    './mpd.slice.3000-3999.json',\n",
        "    './mpd.slice.4000-4999.json',\n",
        "    './mpd.slice.5000-5999.json',\n",
        "    './mpd.slice.6000-6999.json',\n",
        "    './mpd.slice.7000-7999.json',\n",
        "    './mpd.slice.8000-8999.json',\n",
        "    './mpd.slice.9000-9999.json',\n",
        "]]).reset_index(drop=True)\n",
        "df['track'] = df.track.astype('category')\n",
        "df['track_id'] = df.track.cat.codes + df.playlist_id.max() + 1\n",
        "print(df.shape)\n",
        "df.head()"
      ],
      "metadata": {
        "colab": {
          "base_uri": "https://localhost:8080/",
          "height": 224
        },
        "id": "Fn627E8DntsU",
        "outputId": "b3b57135-73fa-47fe-8ca0-a0dfebd7c587"
      },
      "execution_count": 175,
      "outputs": [
        {
          "output_type": "stream",
          "name": "stdout",
          "text": [
            "(664712, 3)\n"
          ]
        },
        {
          "output_type": "execute_result",
          "data": {
            "text/plain": [
              "   playlist_id                                 track  track_id\n",
              "0            0  spotify:track:0UaMYEvWZi0ZqiDOoHU3YI     20959\n",
              "1            0  spotify:track:6I9VzXrHxO9rA9A5euc8Ak    147484\n",
              "2            0  spotify:track:0WqIKmW4BTrj3eJFmnCKMv     21768\n",
              "3            0  spotify:track:1AWQoqb9bSvzTjaLralEkT     35799\n",
              "4            0  spotify:track:1lzr43nnXAijIGYnCT8M8H     48891"
            ],
            "text/html": [
              "\n",
              "  <div id=\"df-5fc55b25-9dd1-4650-ac92-52d8c066d278\">\n",
              "    <div class=\"colab-df-container\">\n",
              "      <div>\n",
              "<style scoped>\n",
              "    .dataframe tbody tr th:only-of-type {\n",
              "        vertical-align: middle;\n",
              "    }\n",
              "\n",
              "    .dataframe tbody tr th {\n",
              "        vertical-align: top;\n",
              "    }\n",
              "\n",
              "    .dataframe thead th {\n",
              "        text-align: right;\n",
              "    }\n",
              "</style>\n",
              "<table border=\"1\" class=\"dataframe\">\n",
              "  <thead>\n",
              "    <tr style=\"text-align: right;\">\n",
              "      <th></th>\n",
              "      <th>playlist_id</th>\n",
              "      <th>track</th>\n",
              "      <th>track_id</th>\n",
              "    </tr>\n",
              "  </thead>\n",
              "  <tbody>\n",
              "    <tr>\n",
              "      <th>0</th>\n",
              "      <td>0</td>\n",
              "      <td>spotify:track:0UaMYEvWZi0ZqiDOoHU3YI</td>\n",
              "      <td>20959</td>\n",
              "    </tr>\n",
              "    <tr>\n",
              "      <th>1</th>\n",
              "      <td>0</td>\n",
              "      <td>spotify:track:6I9VzXrHxO9rA9A5euc8Ak</td>\n",
              "      <td>147484</td>\n",
              "    </tr>\n",
              "    <tr>\n",
              "      <th>2</th>\n",
              "      <td>0</td>\n",
              "      <td>spotify:track:0WqIKmW4BTrj3eJFmnCKMv</td>\n",
              "      <td>21768</td>\n",
              "    </tr>\n",
              "    <tr>\n",
              "      <th>3</th>\n",
              "      <td>0</td>\n",
              "      <td>spotify:track:1AWQoqb9bSvzTjaLralEkT</td>\n",
              "      <td>35799</td>\n",
              "    </tr>\n",
              "    <tr>\n",
              "      <th>4</th>\n",
              "      <td>0</td>\n",
              "      <td>spotify:track:1lzr43nnXAijIGYnCT8M8H</td>\n",
              "      <td>48891</td>\n",
              "    </tr>\n",
              "  </tbody>\n",
              "</table>\n",
              "</div>\n",
              "      <button class=\"colab-df-convert\" onclick=\"convertToInteractive('df-5fc55b25-9dd1-4650-ac92-52d8c066d278')\"\n",
              "              title=\"Convert this dataframe to an interactive table.\"\n",
              "              style=\"display:none;\">\n",
              "        \n",
              "  <svg xmlns=\"http://www.w3.org/2000/svg\" height=\"24px\"viewBox=\"0 0 24 24\"\n",
              "       width=\"24px\">\n",
              "    <path d=\"M0 0h24v24H0V0z\" fill=\"none\"/>\n",
              "    <path d=\"M18.56 5.44l.94 2.06.94-2.06 2.06-.94-2.06-.94-.94-2.06-.94 2.06-2.06.94zm-11 1L8.5 8.5l.94-2.06 2.06-.94-2.06-.94L8.5 2.5l-.94 2.06-2.06.94zm10 10l.94 2.06.94-2.06 2.06-.94-2.06-.94-.94-2.06-.94 2.06-2.06.94z\"/><path d=\"M17.41 7.96l-1.37-1.37c-.4-.4-.92-.59-1.43-.59-.52 0-1.04.2-1.43.59L10.3 9.45l-7.72 7.72c-.78.78-.78 2.05 0 2.83L4 21.41c.39.39.9.59 1.41.59.51 0 1.02-.2 1.41-.59l7.78-7.78 2.81-2.81c.8-.78.8-2.07 0-2.86zM5.41 20L4 18.59l7.72-7.72 1.47 1.35L5.41 20z\"/>\n",
              "  </svg>\n",
              "      </button>\n",
              "      \n",
              "  <style>\n",
              "    .colab-df-container {\n",
              "      display:flex;\n",
              "      flex-wrap:wrap;\n",
              "      gap: 12px;\n",
              "    }\n",
              "\n",
              "    .colab-df-convert {\n",
              "      background-color: #E8F0FE;\n",
              "      border: none;\n",
              "      border-radius: 50%;\n",
              "      cursor: pointer;\n",
              "      display: none;\n",
              "      fill: #1967D2;\n",
              "      height: 32px;\n",
              "      padding: 0 0 0 0;\n",
              "      width: 32px;\n",
              "    }\n",
              "\n",
              "    .colab-df-convert:hover {\n",
              "      background-color: #E2EBFA;\n",
              "      box-shadow: 0px 1px 2px rgba(60, 64, 67, 0.3), 0px 1px 3px 1px rgba(60, 64, 67, 0.15);\n",
              "      fill: #174EA6;\n",
              "    }\n",
              "\n",
              "    [theme=dark] .colab-df-convert {\n",
              "      background-color: #3B4455;\n",
              "      fill: #D2E3FC;\n",
              "    }\n",
              "\n",
              "    [theme=dark] .colab-df-convert:hover {\n",
              "      background-color: #434B5C;\n",
              "      box-shadow: 0px 1px 3px 1px rgba(0, 0, 0, 0.15);\n",
              "      filter: drop-shadow(0px 1px 2px rgba(0, 0, 0, 0.3));\n",
              "      fill: #FFFFFF;\n",
              "    }\n",
              "  </style>\n",
              "\n",
              "      <script>\n",
              "        const buttonEl =\n",
              "          document.querySelector('#df-5fc55b25-9dd1-4650-ac92-52d8c066d278 button.colab-df-convert');\n",
              "        buttonEl.style.display =\n",
              "          google.colab.kernel.accessAllowed ? 'block' : 'none';\n",
              "\n",
              "        async function convertToInteractive(key) {\n",
              "          const element = document.querySelector('#df-5fc55b25-9dd1-4650-ac92-52d8c066d278');\n",
              "          const dataTable =\n",
              "            await google.colab.kernel.invokeFunction('convertToInteractive',\n",
              "                                                     [key], {});\n",
              "          if (!dataTable) return;\n",
              "\n",
              "          const docLinkHtml = 'Like what you see? Visit the ' +\n",
              "            '<a target=\"_blank\" href=https://colab.research.google.com/notebooks/data_table.ipynb>data table notebook</a>'\n",
              "            + ' to learn more about interactive tables.';\n",
              "          element.innerHTML = '';\n",
              "          dataTable['output_type'] = 'display_data';\n",
              "          await google.colab.output.renderOutput(dataTable, element);\n",
              "          const docLink = document.createElement('div');\n",
              "          docLink.innerHTML = docLinkHtml;\n",
              "          element.appendChild(docLink);\n",
              "        }\n",
              "      </script>\n",
              "    </div>\n",
              "  </div>\n",
              "  "
            ]
          },
          "metadata": {},
          "execution_count": 175
        }
      ]
    },
    {
      "cell_type": "code",
      "source": [
        "df.playlist_id.nunique(), df.track.nunique(), df.track_id.nunique()"
      ],
      "metadata": {
        "colab": {
          "base_uri": "https://localhost:8080/"
        },
        "id": "S8RSMaR65CW-",
        "outputId": "03c43b8b-0c5c-48c7-d362-3746a839e112"
      },
      "execution_count": 176,
      "outputs": [
        {
          "output_type": "execute_result",
          "data": {
            "text/plain": [
              "(10000, 170089, 170089)"
            ]
          },
          "metadata": {},
          "execution_count": 176
        }
      ]
    },
    {
      "cell_type": "code",
      "source": [
        "edge_index = torch.tensor(df[['playlist_id', 'track_id']].T.to_numpy(), dtype=torch.long)\n",
        "edge_index.shape"
      ],
      "metadata": {
        "colab": {
          "base_uri": "https://localhost:8080/"
        },
        "id": "vyf4-dWELr6t",
        "outputId": "f1967dea-d75b-4586-8cbf-406df0c49fad"
      },
      "execution_count": 177,
      "outputs": [
        {
          "output_type": "execute_result",
          "data": {
            "text/plain": [
              "torch.Size([2, 664712])"
            ]
          },
          "metadata": {},
          "execution_count": 177
        }
      ]
    },
    {
      "cell_type": "code",
      "source": [
        "x = torch.cat([\n",
        "    torch.tensor(df.playlist_id.unique().reshape((-1,1)), dtype=torch.float),\n",
        "    torch.tensor(df.track_id.unique().reshape((-1,1)), dtype=torch.float),\n",
        "])\n",
        "x.shape"
      ],
      "metadata": {
        "colab": {
          "base_uri": "https://localhost:8080/"
        },
        "id": "xkl7SfvvMyoJ",
        "outputId": "6b6aa873-b442-4deb-f113-16d5725bc847"
      },
      "execution_count": 178,
      "outputs": [
        {
          "output_type": "execute_result",
          "data": {
            "text/plain": [
              "torch.Size([180089, 1])"
            ]
          },
          "metadata": {},
          "execution_count": 178
        }
      ]
    },
    {
      "cell_type": "code",
      "source": [
        "data = Data(x=x, edge_index=edge_index)\n",
        "data"
      ],
      "metadata": {
        "colab": {
          "base_uri": "https://localhost:8080/"
        },
        "id": "WcQTUW9gM_zG",
        "outputId": "968c1961-94d9-4a6e-fc7d-3c81c9067b31"
      },
      "execution_count": 179,
      "outputs": [
        {
          "output_type": "execute_result",
          "data": {
            "text/plain": [
              "Data(x=[180089, 1], edge_index=[2, 664712])"
            ]
          },
          "metadata": {},
          "execution_count": 179
        }
      ]
    },
    {
      "cell_type": "markdown",
      "source": [
        "# extract a k-core"
      ],
      "metadata": {
        "id": "ogJEH5O-hIwz"
      }
    },
    {
      "cell_type": "code",
      "source": [
        "from torch_geometric.utils import to_networkx, from_networkx\n",
        "from torch_geometric.transforms import RandomLinkSplit\n",
        "import networkx"
      ],
      "metadata": {
        "id": "pjW3Y8Z5n6j7"
      },
      "execution_count": 17,
      "outputs": []
    },
    {
      "cell_type": "code",
      "source": [
        "max(networkx.core_number(to_networkx(data)).values())"
      ],
      "metadata": {
        "colab": {
          "base_uri": "https://localhost:8080/"
        },
        "id": "D44i9qlDn8LE",
        "outputId": "bc75a87e-8844-42e9-be06-92d97dc0c8ee"
      },
      "execution_count": 180,
      "outputs": [
        {
          "output_type": "execute_result",
          "data": {
            "text/plain": [
              "33"
            ]
          },
          "metadata": {},
          "execution_count": 180
        }
      ]
    },
    {
      "cell_type": "code",
      "source": [
        "kcore_data = to_networkx(data)\n",
        "print(kcore_data.number_of_nodes(), kcore_data.number_of_edges())\n",
        "kcore_data = networkx.k_core(kcore_data, k=19)\n",
        "print(kcore_data.number_of_nodes(), kcore_data.number_of_edges())\n",
        "kcore_data = from_networkx(kcore_data)\n",
        "kcore_data"
      ],
      "metadata": {
        "colab": {
          "base_uri": "https://localhost:8080/"
        },
        "id": "lRc0joVFn9Nr",
        "outputId": "38711920-8ff5-4d45-b037-4fefd2f97a75"
      },
      "execution_count": 181,
      "outputs": [
        {
          "output_type": "stream",
          "name": "stdout",
          "text": [
            "180089 656152\n",
            "9430 246371\n"
          ]
        },
        {
          "output_type": "execute_result",
          "data": {
            "text/plain": [
              "Data(edge_index=[2, 246371], num_nodes=9430)"
            ]
          },
          "metadata": {},
          "execution_count": 181
        }
      ]
    },
    {
      "cell_type": "code",
      "source": [
        "train_data, val_data, test_data = RandomLinkSplit()(kcore_data)\n",
        "train_data, val_data, test_data"
      ],
      "metadata": {
        "colab": {
          "base_uri": "https://localhost:8080/"
        },
        "id": "8YBEDfrkn_s4",
        "outputId": "2fcc3f54-b78a-4e88-fed1-9d5a90b622fa"
      },
      "execution_count": 182,
      "outputs": [
        {
          "output_type": "execute_result",
          "data": {
            "text/plain": [
              "(Data(edge_index=[2, 172460], num_nodes=9430, edge_label=[344920], edge_label_index=[2, 344920]),\n",
              " Data(edge_index=[2, 172460], num_nodes=9430, edge_label=[49274], edge_label_index=[2, 49274]),\n",
              " Data(edge_index=[2, 197097], num_nodes=9430, edge_label=[98548], edge_label_index=[2, 98548]))"
            ]
          },
          "metadata": {},
          "execution_count": 182
        }
      ]
    },
    {
      "cell_type": "markdown",
      "source": [
        "# define the loss function"
      ],
      "metadata": {
        "id": "LqoI4CHJhPJw"
      }
    },
    {
      "cell_type": "code",
      "source": [
        "def bpr_loss(pos_similarities, neg_similarities):\n",
        "  return -torch.nn.functional.logsigmoid(pos_similarities - neg_similarities).mean()"
      ],
      "metadata": {
        "id": "53HulMQjtNzJ"
      },
      "execution_count": 139,
      "outputs": []
    },
    {
      "cell_type": "markdown",
      "source": [
        "# define the model"
      ],
      "metadata": {
        "id": "YeEhj5eRhSDc"
      }
    },
    {
      "cell_type": "code",
      "source": [
        "class ModelGCN(LightGCN):\n",
        "  def forward(self, edge_index):\n",
        "    out = self.get_embedding(edge_index)\n",
        "    out_src = out[edge_index[0]]\n",
        "    out_dst = out[edge_index[1]]\n",
        "    return out_src, out_dst"
      ],
      "metadata": {
        "id": "1Yiz9NPuak3u"
      },
      "execution_count": 186,
      "outputs": []
    },
    {
      "cell_type": "markdown",
      "source": [
        "# train the model"
      ],
      "metadata": {
        "id": "NOu67TLKhWdr"
      }
    },
    {
      "cell_type": "code",
      "source": [
        "train_loader = DataLoader(train_data.edge_index.T, batch_size=1024 * 200, shuffle=True)\n",
        "val_loader = DataLoader(val_data.edge_index.T, batch_size=1024 * 200, shuffle=False)"
      ],
      "metadata": {
        "id": "ogEs8PuTXoyU"
      },
      "execution_count": 183,
      "outputs": []
    },
    {
      "cell_type": "code",
      "source": [
        "data = data.to(device)"
      ],
      "metadata": {
        "id": "ZBwTCfa-Y7s5"
      },
      "execution_count": 185,
      "outputs": []
    },
    {
      "cell_type": "code",
      "source": [
        "m = ModelGCN(\n",
        "    num_nodes=kcore_data.num_nodes,\n",
        "    embedding_dim=32,\n",
        "    num_layers=3,\n",
        ").to(device)\n",
        "optimizer = torch.optim.AdamW(m.parameters(), lr=1e-2, weight_decay=5e-4)"
      ],
      "metadata": {
        "id": "F0Z-aKVbYAqT"
      },
      "execution_count": 194,
      "outputs": []
    },
    {
      "cell_type": "code",
      "source": [
        "train_losses = []\n",
        "val_losses = []\n",
        "\n",
        "def process(m, dataloader):\n",
        "  loss = 0\n",
        "  for batch in dataloader:\n",
        "    # batch of positive samples\n",
        "    batch = batch.T\n",
        "    # batch of negative samples\n",
        "    playlist_index, pos_track_index, neg_track_index = structured_negative_sampling(batch)\n",
        "    neg_batch = torch.stack([playlist_index, neg_track_index], dim=0)\n",
        "    # get embeddings for playlist (src) and track (dst)\n",
        "    src, dst = m(torch.cat([batch, neg_batch], dim=1))\n",
        "    pos_src, pos_dst = src[:batch.shape[1]], dst[:batch.shape[1]]\n",
        "    neg_src, neg_dst = src[batch.shape[1]:], dst[batch.shape[1]:]\n",
        "    pos_similarities = (pos_src * pos_dst).sum(dim=-1)\n",
        "    neg_similarities = (neg_src * neg_dst).sum(dim=-1)\n",
        "    # calculate Bayesian personalized ranking loss\n",
        "    loss += bpr_loss(pos_similarities, neg_similarities)\n",
        "    # add regularization to favour unit vector\n",
        "    loss += .05 * (1 - (src * src).sum(dim=-1)).square().mean()\n",
        "    loss += .05 * (1 - (dst * dst).sum(dim=-1)).square().mean()\n",
        "  return loss\n",
        "\n",
        "m.train()\n",
        "for epoch in trange(300):\n",
        "  optimizer.zero_grad()\n",
        "  # train\n",
        "  train_loss = process(m, train_loader)\n",
        "  train_losses.append(train_loss.item())\n",
        "  # validate\n",
        "  with torch.no_grad():\n",
        "    val_loss = process(m, val_loader)\n",
        "  val_losses.append(val_loss.item())\n",
        "  # backpropagate\n",
        "  train_loss.backward()\n",
        "  optimizer.step()"
      ],
      "metadata": {
        "colab": {
          "base_uri": "https://localhost:8080/",
          "height": 49,
          "referenced_widgets": [
            "e9a616c3ea4b45fa9c8773068d87ce55",
            "f42d9f285a984ae48513946eaf9d0469",
            "44bd8c0ddada47cbaf214e67731a680e",
            "9e67a1ecc0964aa6887f1bec2d653133",
            "d1e7664b69fe4057aaa16f15e1ceec80",
            "afb73998b00c4139b16b648a8942b245",
            "921075a3997e4d75ab53c78ede42665b",
            "63738bd47b2045d3b1ead782664a070b",
            "22563ab9ad7b441dbfb9e03f8a1d9ab6",
            "533aa653a2c84fd88aa278c9143d084f",
            "2f2561a499fe4cf6a8fa17e3b0f5d390"
          ]
        },
        "id": "NP-tc_6REnyh",
        "outputId": "b0fc3ba8-ab65-4eca-fdd2-d0b552b8eb0a"
      },
      "execution_count": 195,
      "outputs": [
        {
          "output_type": "display_data",
          "data": {
            "text/plain": [
              "  0%|          | 0/300 [00:00<?, ?it/s]"
            ],
            "application/vnd.jupyter.widget-view+json": {
              "version_major": 2,
              "version_minor": 0,
              "model_id": "e9a616c3ea4b45fa9c8773068d87ce55"
            }
          },
          "metadata": {}
        }
      ]
    },
    {
      "cell_type": "code",
      "source": [
        "print(train_losses[-1])\n",
        "pd.DataFrame({\n",
        "    'train': train_losses,\n",
        "    'val': val_losses,\n",
        "}).plot.line(logy=True);"
      ],
      "metadata": {
        "colab": {
          "base_uri": "https://localhost:8080/",
          "height": 448
        },
        "id": "zFRPtE8Z_RNs",
        "outputId": "cb2ea86f-2dbc-4fce-d05a-9f198c54447b"
      },
      "execution_count": 196,
      "outputs": [
        {
          "output_type": "stream",
          "name": "stdout",
          "text": [
            "0.41965389251708984\n"
          ]
        },
        {
          "output_type": "display_data",
          "data": {
            "text/plain": [
              "<Figure size 640x480 with 1 Axes>"
            ],
            "image/png": "[encoded data removed]"
          },
          "metadata": {}
        }
      ]
    },
    {
      "cell_type": "code",
      "source": [
        "# k_core = 19\n",
        "# embedding_dim = 32\n",
        "# num_layers = 3\n",
        "# max_epochs = 300\n",
        "\n",
        "m.eval()\n",
        "with torch.no_grad():\n",
        "  for d in [train_data, val_data, test_data]:\n",
        "    pos_edges = d.edge_index\n",
        "    node_index, positive_track_index, negative_track_index = structured_negative_sampling(d.edge_index)\n",
        "    neg_edges = torch.stack([node_index, negative_track_index], dim=0)\n",
        "    all_edges = torch.cat([pos_edges, neg_edges], axis=1)\n",
        "    src, dst = m(all_edges)\n",
        "    p = (src * dst).sum(dim=-1).sigmoid()\n",
        "    print('pos loss value:', float((src[:pos_edges.shape[1]] * dst[:pos_edges.shape[1]]).sum(dim=-1).mean()))\n",
        "    print('neg loss value:', float((src[-neg_edges.shape[1]:] * dst[-neg_edges.shape[1]:]).sum(dim=-1).mean()))\n",
        "    print('loss value:', float((src * dst).sum(dim=-1).mean()))\n",
        "    print('length:', float(torch.cat([(src * src).sum(dim=-1),(dst * dst).sum(dim=-1)], dim=0).mean()))\n",
        "    print('roc auc score:', sk.metrics.roc_auc_score([1] * pos_edges.shape[1] + [0] * neg_edges.shape[1], p))\n",
        "    print(sk.metrics.classification_report([True] * pos_edges.shape[1] + [False] * neg_edges.shape[1], p >= .5))"
      ],
      "metadata": {
        "colab": {
          "base_uri": "https://localhost:8080/"
        },
        "id": "_KzMvc4yi7mp",
        "outputId": "d76dcb14-9362-4be6-aa50-616bd14e0d62"
      },
      "execution_count": 197,
      "outputs": [
        {
          "output_type": "stream",
          "name": "stdout",
          "text": [
            "pos loss value: 1.1147122383117676\n",
            "neg loss value: 0.16674964129924774\n",
            "loss value: 0.6407309770584106\n",
            "length: 1.400310754776001\n",
            "roc auc score: 0.9058777619730581\n",
            "              precision    recall  f1-score   support\n",
            "\n",
            "       False       0.97      0.42      0.58    172460\n",
            "        True       0.63      0.99      0.77    172460\n",
            "\n",
            "    accuracy                           0.70    344920\n",
            "   macro avg       0.80      0.70      0.67    344920\n",
            "weighted avg       0.80      0.70      0.67    344920\n",
            "\n",
            "pos loss value: 1.1070666313171387\n",
            "neg loss value: 0.16811363399028778\n",
            "loss value: 0.6375901699066162\n",
            "length: 1.3907880783081055\n",
            "roc auc score: 0.9054321002912887\n",
            "              precision    recall  f1-score   support\n",
            "\n",
            "       False       0.97      0.41      0.58    172460\n",
            "        True       0.63      0.99      0.77    172460\n",
            "\n",
            "    accuracy                           0.70    344920\n",
            "   macro avg       0.80      0.70      0.67    344920\n",
            "weighted avg       0.80      0.70      0.67    344920\n",
            "\n",
            "pos loss value: 1.0862305164337158\n",
            "neg loss value: 0.1558244228363037\n",
            "loss value: 0.6210274696350098\n",
            "length: 1.3693957328796387\n",
            "roc auc score: 0.9058597002175569\n",
            "              precision    recall  f1-score   support\n",
            "\n",
            "       False       0.96      0.42      0.59    197097\n",
            "        True       0.63      0.98      0.77    197097\n",
            "\n",
            "    accuracy                           0.70    394194\n",
            "   macro avg       0.80      0.70      0.68    394194\n",
            "weighted avg       0.80      0.70      0.68    394194\n",
            "\n"
          ]
        }
      ]
    },
    {
      "cell_type": "code",
      "source": [
        "# k_core = 19\n",
        "# embedding_dim = 32\n",
        "# num_layers = 1\n",
        "# max_epochs = 300\n",
        "\n",
        "m.eval()\n",
        "with torch.no_grad():\n",
        "  for d in [train_data, val_data, test_data]:\n",
        "    pos_edges = d.edge_index\n",
        "    node_index, positive_track_index, negative_track_index = structured_negative_sampling(d.edge_index)\n",
        "    neg_edges = torch.stack([node_index, negative_track_index], dim=0)\n",
        "    all_edges = torch.cat([pos_edges, neg_edges], axis=1)\n",
        "    src, dst = m(all_edges)\n",
        "    p = (src * dst).sum(dim=-1).sigmoid()\n",
        "    print('pos loss value:', float((src[:pos_edges.shape[1]] * dst[:pos_edges.shape[1]]).sum(dim=-1).mean()))\n",
        "    print('neg loss value:', float((src[-neg_edges.shape[1]:] * dst[-neg_edges.shape[1]:]).sum(dim=-1).mean()))\n",
        "    print('loss value:', float((src * dst).sum(dim=-1).mean()))\n",
        "    print('length:', float(torch.cat([(src * src).sum(dim=-1),(dst * dst).sum(dim=-1)], dim=0).mean()))\n",
        "    print('roc auc score:', sk.metrics.roc_auc_score([1] * pos_edges.shape[1] + [0] * neg_edges.shape[1], p))\n",
        "    print(sk.metrics.classification_report([True] * pos_edges.shape[1] + [False] * neg_edges.shape[1], p >= .5))"
      ],
      "metadata": {
        "colab": {
          "base_uri": "https://localhost:8080/"
        },
        "id": "KSDIic8qs5Xn",
        "outputId": "5cb93529-93ac-4ad2-a5fc-825705430cd2"
      },
      "execution_count": 193,
      "outputs": [
        {
          "output_type": "stream",
          "name": "stdout",
          "text": [
            "pos loss value: 1.1625213623046875\n",
            "neg loss value: 0.06857287883758545\n",
            "loss value: 0.6155471801757812\n",
            "length: 1.5707693099975586\n",
            "roc auc score: 0.9274974583971418\n",
            "              precision    recall  f1-score   support\n",
            "\n",
            "       False       0.98      0.52      0.68    172460\n",
            "        True       0.67      0.99      0.80    172460\n",
            "\n",
            "    accuracy                           0.75    344920\n",
            "   macro avg       0.83      0.75      0.74    344920\n",
            "weighted avg       0.83      0.75      0.74    344920\n",
            "\n",
            "pos loss value: 1.161129355430603\n",
            "neg loss value: 0.06584247201681137\n",
            "loss value: 0.6134859323501587\n",
            "length: 1.5669559240341187\n",
            "roc auc score: 0.9285066657047195\n",
            "              precision    recall  f1-score   support\n",
            "\n",
            "       False       0.98      0.52      0.68    172460\n",
            "        True       0.67      0.99      0.80    172460\n",
            "\n",
            "    accuracy                           0.75    344920\n",
            "   macro avg       0.83      0.75      0.74    344920\n",
            "weighted avg       0.83      0.75      0.74    344920\n",
            "\n",
            "pos loss value: 1.1491963863372803\n",
            "neg loss value: 0.05904313921928406\n",
            "loss value: 0.6041198372840881\n",
            "length: 1.5531812906265259\n",
            "roc auc score: 0.9268242883444131\n",
            "              precision    recall  f1-score   support\n",
            "\n",
            "       False       0.98      0.53      0.68    197097\n",
            "        True       0.68      0.99      0.80    197097\n",
            "\n",
            "    accuracy                           0.76    394194\n",
            "   macro avg       0.83      0.76      0.74    394194\n",
            "weighted avg       0.83      0.76      0.74    394194\n",
            "\n"
          ]
        }
      ]
    }
  ]
}