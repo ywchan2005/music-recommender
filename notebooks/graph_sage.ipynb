{
  "nbformat": 4,
  "nbformat_minor": 0,
  "metadata": {
    "colab": {
      "provenance": []
    },
    "kernelspec": {
      "name": "python3",
      "display_name": "Python 3"
    },
    "language_info": {
      "name": "python"
    },
    "widgets": {
      "application/vnd.jupyter.widget-state+json": {
        "fd56f4800b1a4b0c97c34744ceb8d501": {
          "model_module": "@jupyter-widgets/controls",
          "model_name": "HBoxModel",
          "model_module_version": "1.5.0",
          "state": {
            "_dom_classes": [],
            "_model_module": "@jupyter-widgets/controls",
            "_model_module_version": "1.5.0",
            "_model_name": "HBoxModel",
            "_view_count": null,
            "_view_module": "@jupyter-widgets/controls",
            "_view_module_version": "1.5.0",
            "_view_name": "HBoxView",
            "box_style": "",
            "children": [
              "IPY_MODEL_7bbb78a522ad4b129f01798564295b88",
              "IPY_MODEL_f90213f013144d569434a7e9b9763f00",
              "IPY_MODEL_e3b7d16475904d56aaa3711df51c7798"
            ],
            "layout": "IPY_MODEL_bdf8f2e92e5a4318954aa8c0744fa3c6"
          }
        },
        "7bbb78a522ad4b129f01798564295b88": {
          "model_module": "@jupyter-widgets/controls",
          "model_name": "HTMLModel",
          "model_module_version": "1.5.0",
          "state": {
            "_dom_classes": [],
            "_model_module": "@jupyter-widgets/controls",
            "_model_module_version": "1.5.0",
            "_model_name": "HTMLModel",
            "_view_count": null,
            "_view_module": "@jupyter-widgets/controls",
            "_view_module_version": "1.5.0",
            "_view_name": "HTMLView",
            "description": "",
            "description_tooltip": null,
            "layout": "IPY_MODEL_cd162562041f4df094a6a414f6dae72d",
            "placeholder": "​",
            "style": "IPY_MODEL_1569e1fb4f8f4517a1e304e18b73d292",
            "value": "100%"
          }
        },
        "f90213f013144d569434a7e9b9763f00": {
          "model_module": "@jupyter-widgets/controls",
          "model_name": "FloatProgressModel",
          "model_module_version": "1.5.0",
          "state": {
            "_dom_classes": [],
            "_model_module": "@jupyter-widgets/controls",
            "_model_module_version": "1.5.0",
            "_model_name": "FloatProgressModel",
            "_view_count": null,
            "_view_module": "@jupyter-widgets/controls",
            "_view_module_version": "1.5.0",
            "_view_name": "ProgressView",
            "bar_style": "success",
            "description": "",
            "description_tooltip": null,
            "layout": "IPY_MODEL_c9a78494337a40018d79dcfa297d82eb",
            "max": 300,
            "min": 0,
            "orientation": "horizontal",
            "style": "IPY_MODEL_06d797f63627458eb8af3490603549c6",
            "value": 300
          }
        },
        "e3b7d16475904d56aaa3711df51c7798": {
          "model_module": "@jupyter-widgets/controls",
          "model_name": "HTMLModel",
          "model_module_version": "1.5.0",
          "state": {
            "_dom_classes": [],
            "_model_module": "@jupyter-widgets/controls",
            "_model_module_version": "1.5.0",
            "_model_name": "HTMLModel",
            "_view_count": null,
            "_view_module": "@jupyter-widgets/controls",
            "_view_module_version": "1.5.0",
            "_view_name": "HTMLView",
            "description": "",
            "description_tooltip": null,
            "layout": "IPY_MODEL_8cca4a9bb48d4b6aa33473e1e1de49a5",
            "placeholder": "​",
            "style": "IPY_MODEL_c12f39fb53ca46e4a2064080bf5d254d",
            "value": " 300/300 [20:04&lt;00:00,  3.82s/it]"
          }
        },
        "bdf8f2e92e5a4318954aa8c0744fa3c6": {
          "model_module": "@jupyter-widgets/base",
          "model_name": "LayoutModel",
          "model_module_version": "1.2.0",
          "state": {
            "_model_module": "@jupyter-widgets/base",
            "_model_module_version": "1.2.0",
            "_model_name": "LayoutModel",
            "_view_count": null,
            "_view_module": "@jupyter-widgets/base",
            "_view_module_version": "1.2.0",
            "_view_name": "LayoutView",
            "align_content": null,
            "align_items": null,
            "align_self": null,
            "border": null,
            "bottom": null,
            "display": null,
            "flex": null,
            "flex_flow": null,
            "grid_area": null,
            "grid_auto_columns": null,
            "grid_auto_flow": null,
            "grid_auto_rows": null,
            "grid_column": null,
            "grid_gap": null,
            "grid_row": null,
            "grid_template_areas": null,
            "grid_template_columns": null,
            "grid_template_rows": null,
            "height": null,
            "justify_content": null,
            "justify_items": null,
            "left": null,
            "margin": null,
            "max_height": null,
            "max_width": null,
            "min_height": null,
            "min_width": null,
            "object_fit": null,
            "object_position": null,
            "order": null,
            "overflow": null,
            "overflow_x": null,
            "overflow_y": null,
            "padding": null,
            "right": null,
            "top": null,
            "visibility": null,
            "width": null
          }
        },
        "cd162562041f4df094a6a414f6dae72d": {
          "model_module": "@jupyter-widgets/base",
          "model_name": "LayoutModel",
          "model_module_version": "1.2.0",
          "state": {
            "_model_module": "@jupyter-widgets/base",
            "_model_module_version": "1.2.0",
            "_model_name": "LayoutModel",
            "_view_count": null,
            "_view_module": "@jupyter-widgets/base",
            "_view_module_version": "1.2.0",
            "_view_name": "LayoutView",
            "align_content": null,
            "align_items": null,
            "align_self": null,
            "border": null,
            "bottom": null,
            "display": null,
            "flex": null,
            "flex_flow": null,
            "grid_area": null,
            "grid_auto_columns": null,
            "grid_auto_flow": null,
            "grid_auto_rows": null,
            "grid_column": null,
            "grid_gap": null,
            "grid_row": null,
            "grid_template_areas": null,
            "grid_template_columns": null,
            "grid_template_rows": null,
            "height": null,
            "justify_content": null,
            "justify_items": null,
            "left": null,
            "margin": null,
            "max_height": null,
            "max_width": null,
            "min_height": null,
            "min_width": null,
            "object_fit": null,
            "object_position": null,
            "order": null,
            "overflow": null,
            "overflow_x": null,
            "overflow_y": null,
            "padding": null,
            "right": null,
            "top": null,
            "visibility": null,
            "width": null
          }
        },
        "1569e1fb4f8f4517a1e304e18b73d292": {
          "model_module": "@jupyter-widgets/controls",
          "model_name": "DescriptionStyleModel",
          "model_module_version": "1.5.0",
          "state": {
            "_model_module": "@jupyter-widgets/controls",
            "_model_module_version": "1.5.0",
            "_model_name": "DescriptionStyleModel",
            "_view_count": null,
            "_view_module": "@jupyter-widgets/base",
            "_view_module_version": "1.2.0",
            "_view_name": "StyleView",
            "description_width": ""
          }
        },
        "c9a78494337a40018d79dcfa297d82eb": {
          "model_module": "@jupyter-widgets/base",
          "model_name": "LayoutModel",
          "model_module_version": "1.2.0",
          "state": {
            "_model_module": "@jupyter-widgets/base",
            "_model_module_version": "1.2.0",
            "_model_name": "LayoutModel",
            "_view_count": null,
            "_view_module": "@jupyter-widgets/base",
            "_view_module_version": "1.2.0",
            "_view_name": "LayoutView",
            "align_content": null,
            "align_items": null,
            "align_self": null,
            "border": null,
            "bottom": null,
            "display": null,
            "flex": null,
            "flex_flow": null,
            "grid_area": null,
            "grid_auto_columns": null,
            "grid_auto_flow": null,
            "grid_auto_rows": null,
            "grid_column": null,
            "grid_gap": null,
            "grid_row": null,
            "grid_template_areas": null,
            "grid_template_columns": null,
            "grid_template_rows": null,
            "height": null,
            "justify_content": null,
            "justify_items": null,
            "left": null,
            "margin": null,
            "max_height": null,
            "max_width": null,
            "min_height": null,
            "min_width": null,
            "object_fit": null,
            "object_position": null,
            "order": null,
            "overflow": null,
            "overflow_x": null,
            "overflow_y": null,
            "padding": null,
            "right": null,
            "top": null,
            "visibility": null,
            "width": null
          }
        },
        "06d797f63627458eb8af3490603549c6": {
          "model_module": "@jupyter-widgets/controls",
          "model_name": "ProgressStyleModel",
          "model_module_version": "1.5.0",
          "state": {
            "_model_module": "@jupyter-widgets/controls",
            "_model_module_version": "1.5.0",
            "_model_name": "ProgressStyleModel",
            "_view_count": null,
            "_view_module": "@jupyter-widgets/base",
            "_view_module_version": "1.2.0",
            "_view_name": "StyleView",
            "bar_color": null,
            "description_width": ""
          }
        },
        "8cca4a9bb48d4b6aa33473e1e1de49a5": {
          "model_module": "@jupyter-widgets/base",
          "model_name": "LayoutModel",
          "model_module_version": "1.2.0",
          "state": {
            "_model_module": "@jupyter-widgets/base",
            "_model_module_version": "1.2.0",
            "_model_name": "LayoutModel",
            "_view_count": null,
            "_view_module": "@jupyter-widgets/base",
            "_view_module_version": "1.2.0",
            "_view_name": "LayoutView",
            "align_content": null,
            "align_items": null,
            "align_self": null,
            "border": null,
            "bottom": null,
            "display": null,
            "flex": null,
            "flex_flow": null,
            "grid_area": null,
            "grid_auto_columns": null,
            "grid_auto_flow": null,
            "grid_auto_rows": null,
            "grid_column": null,
            "grid_gap": null,
            "grid_row": null,
            "grid_template_areas": null,
            "grid_template_columns": null,
            "grid_template_rows": null,
            "height": null,
            "justify_content": null,
            "justify_items": null,
            "left": null,
            "margin": null,
            "max_height": null,
            "max_width": null,
            "min_height": null,
            "min_width": null,
            "object_fit": null,
            "object_position": null,
            "order": null,
            "overflow": null,
            "overflow_x": null,
            "overflow_y": null,
            "padding": null,
            "right": null,
            "top": null,
            "visibility": null,
            "width": null
          }
        },
        "c12f39fb53ca46e4a2064080bf5d254d": {
          "model_module": "@jupyter-widgets/controls",
          "model_name": "DescriptionStyleModel",
          "model_module_version": "1.5.0",
          "state": {
            "_model_module": "@jupyter-widgets/controls",
            "_model_module_version": "1.5.0",
            "_model_name": "DescriptionStyleModel",
            "_view_count": null,
            "_view_module": "@jupyter-widgets/base",
            "_view_module_version": "1.2.0",
            "_view_name": "StyleView",
            "description_width": ""
          }
        }
      }
    }
  },
  "cells": [
    {
      "cell_type": "code",
      "source": [
        "!pip install -q torch_geometric"
      ],
      "metadata": {
        "colab": {
          "base_uri": "https://localhost:8080/"
        },
        "id": "GVgzOxUms3ga",
        "outputId": "a6b78d98-4417-4cfe-fe77-b71d5b937579"
      },
      "execution_count": 1,
      "outputs": [
        {
          "output_type": "stream",
          "name": "stdout",
          "text": [
            "\u001b[?25l     \u001b[90m━━━━━━━━━━━━━━━━━━━━━━━━━━━━━━━━━━━━━━━━\u001b[0m \u001b[32m0.0/661.6 kB\u001b[0m \u001b[31m?\u001b[0m eta \u001b[36m-:--:--\u001b[0m\r\u001b[2K     \u001b[91m━━━━━━━━━━━━━━━━━━━━━━━━━━━━━━━━━━━━━\u001b[0m\u001b[91m╸\u001b[0m \u001b[32m655.4/661.6 kB\u001b[0m \u001b[31m26.1 MB/s\u001b[0m eta \u001b[36m0:00:01\u001b[0m\r\u001b[2K     \u001b[90m━━━━━━━━━━━━━━━━━━━━━━━━━━━━━━━━━━━━━━\u001b[0m \u001b[32m661.6/661.6 kB\u001b[0m \u001b[31m17.0 MB/s\u001b[0m eta \u001b[36m0:00:00\u001b[0m\n",
            "\u001b[?25h  Installing build dependencies ... \u001b[?25l\u001b[?25hdone\n",
            "  Getting requirements to build wheel ... \u001b[?25l\u001b[?25hdone\n",
            "  Preparing metadata (pyproject.toml) ... \u001b[?25l\u001b[?25hdone\n",
            "  Building wheel for torch_geometric (pyproject.toml) ... \u001b[?25l\u001b[?25hdone\n"
          ]
        }
      ]
    },
    {
      "cell_type": "code",
      "execution_count": 2,
      "metadata": {
        "id": "01LRZRlBn8vN"
      },
      "outputs": [],
      "source": [
        "from ast import literal_eval\n",
        "import json\n",
        "import pandas as pd\n",
        "import sklearn as sk\n",
        "import sklearn.model_selection\n",
        "import sklearn.metrics\n",
        "import torch\n",
        "from tqdm.notebook import trange"
      ]
    },
    {
      "cell_type": "code",
      "source": [
        "from torch_geometric.data import Data\n",
        "from torch_geometric.loader import DataLoader\n",
        "from torch_geometric.nn import LightGCN, GATConv, SAGEConv\n",
        "from torch_geometric.utils import structured_negative_sampling"
      ],
      "metadata": {
        "id": "aTNS7DSaXix6"
      },
      "execution_count": 3,
      "outputs": []
    },
    {
      "cell_type": "code",
      "source": [
        "device = torch.device('cuda' if torch.cuda.is_available() else 'cpu')"
      ],
      "metadata": {
        "id": "akCBDxdBYy7A"
      },
      "execution_count": 4,
      "outputs": []
    },
    {
      "cell_type": "markdown",
      "source": [
        "# load playlist data"
      ],
      "metadata": {
        "id": "7MQuLNnAePIX"
      }
    },
    {
      "cell_type": "code",
      "source": [
        "def load_playlists(filepath):\n",
        "  with open(filepath, 'r') as f:\n",
        "    jobj = json.load(f)\n",
        "    playlists = jobj['playlists']\n",
        "  return pd.DataFrame(data={\n",
        "      'playlist_id': [playlist['pid'] for playlist in playlists],\n",
        "      'track': [[track['track_uri'] for track in playlist['tracks']] for playlist in playlists],\n",
        "  }).explode('track').reset_index(drop=True)"
      ],
      "metadata": {
        "id": "KNc8X_oIo9ud"
      },
      "execution_count": 6,
      "outputs": []
    },
    {
      "cell_type": "code",
      "source": [
        "df = pd.concat([load_playlists(filepath) for filepath in [\n",
        "    './mpd.slice.0-999.json',\n",
        "    './mpd.slice.1000-1999.json',\n",
        "    './mpd.slice.2000-2999.json',\n",
        "    './mpd.slice.3000-3999.json',\n",
        "    './mpd.slice.4000-4999.json',\n",
        "    './mpd.slice.5000-5999.json',\n",
        "    './mpd.slice.6000-6999.json',\n",
        "    './mpd.slice.7000-7999.json',\n",
        "    './mpd.slice.8000-8999.json',\n",
        "    './mpd.slice.9000-9999.json',\n",
        "]]).reset_index(drop=True)\n",
        "df['track'] = df.track.astype('category')\n",
        "df['track_id'] = df.track.cat.codes + df.playlist_id.max() + 1\n",
        "print(df.shape)\n",
        "df.head()"
      ],
      "metadata": {
        "colab": {
          "base_uri": "https://localhost:8080/",
          "height": 224
        },
        "id": "aoXXxsezpNb6",
        "outputId": "b0e04228-4c9b-4abb-97c5-84f690451dd8"
      },
      "execution_count": 564,
      "outputs": [
        {
          "output_type": "stream",
          "name": "stdout",
          "text": [
            "(664712, 3)\n"
          ]
        },
        {
          "output_type": "execute_result",
          "data": {
            "text/plain": [
              "   playlist_id                                 track  track_id\n",
              "0            0  spotify:track:0UaMYEvWZi0ZqiDOoHU3YI     20959\n",
              "1            0  spotify:track:6I9VzXrHxO9rA9A5euc8Ak    147484\n",
              "2            0  spotify:track:0WqIKmW4BTrj3eJFmnCKMv     21768\n",
              "3            0  spotify:track:1AWQoqb9bSvzTjaLralEkT     35799\n",
              "4            0  spotify:track:1lzr43nnXAijIGYnCT8M8H     48891"
            ],
            "text/html": [
              "\n",
              "  <div id=\"df-134a60ae-9c5b-439c-b433-3b5c1d9c85df\">\n",
              "    <div class=\"colab-df-container\">\n",
              "      <div>\n",
              "<style scoped>\n",
              "    .dataframe tbody tr th:only-of-type {\n",
              "        vertical-align: middle;\n",
              "    }\n",
              "\n",
              "    .dataframe tbody tr th {\n",
              "        vertical-align: top;\n",
              "    }\n",
              "\n",
              "    .dataframe thead th {\n",
              "        text-align: right;\n",
              "    }\n",
              "</style>\n",
              "<table border=\"1\" class=\"dataframe\">\n",
              "  <thead>\n",
              "    <tr style=\"text-align: right;\">\n",
              "      <th></th>\n",
              "      <th>playlist_id</th>\n",
              "      <th>track</th>\n",
              "      <th>track_id</th>\n",
              "    </tr>\n",
              "  </thead>\n",
              "  <tbody>\n",
              "    <tr>\n",
              "      <th>0</th>\n",
              "      <td>0</td>\n",
              "      <td>spotify:track:0UaMYEvWZi0ZqiDOoHU3YI</td>\n",
              "      <td>20959</td>\n",
              "    </tr>\n",
              "    <tr>\n",
              "      <th>1</th>\n",
              "      <td>0</td>\n",
              "      <td>spotify:track:6I9VzXrHxO9rA9A5euc8Ak</td>\n",
              "      <td>147484</td>\n",
              "    </tr>\n",
              "    <tr>\n",
              "      <th>2</th>\n",
              "      <td>0</td>\n",
              "      <td>spotify:track:0WqIKmW4BTrj3eJFmnCKMv</td>\n",
              "      <td>21768</td>\n",
              "    </tr>\n",
              "    <tr>\n",
              "      <th>3</th>\n",
              "      <td>0</td>\n",
              "      <td>spotify:track:1AWQoqb9bSvzTjaLralEkT</td>\n",
              "      <td>35799</td>\n",
              "    </tr>\n",
              "    <tr>\n",
              "      <th>4</th>\n",
              "      <td>0</td>\n",
              "      <td>spotify:track:1lzr43nnXAijIGYnCT8M8H</td>\n",
              "      <td>48891</td>\n",
              "    </tr>\n",
              "  </tbody>\n",
              "</table>\n",
              "</div>\n",
              "      <button class=\"colab-df-convert\" onclick=\"convertToInteractive('df-134a60ae-9c5b-439c-b433-3b5c1d9c85df')\"\n",
              "              title=\"Convert this dataframe to an interactive table.\"\n",
              "              style=\"display:none;\">\n",
              "        \n",
              "  <svg xmlns=\"http://www.w3.org/2000/svg\" height=\"24px\"viewBox=\"0 0 24 24\"\n",
              "       width=\"24px\">\n",
              "    <path d=\"M0 0h24v24H0V0z\" fill=\"none\"/>\n",
              "    <path d=\"M18.56 5.44l.94 2.06.94-2.06 2.06-.94-2.06-.94-.94-2.06-.94 2.06-2.06.94zm-11 1L8.5 8.5l.94-2.06 2.06-.94-2.06-.94L8.5 2.5l-.94 2.06-2.06.94zm10 10l.94 2.06.94-2.06 2.06-.94-2.06-.94-.94-2.06-.94 2.06-2.06.94z\"/><path d=\"M17.41 7.96l-1.37-1.37c-.4-.4-.92-.59-1.43-.59-.52 0-1.04.2-1.43.59L10.3 9.45l-7.72 7.72c-.78.78-.78 2.05 0 2.83L4 21.41c.39.39.9.59 1.41.59.51 0 1.02-.2 1.41-.59l7.78-7.78 2.81-2.81c.8-.78.8-2.07 0-2.86zM5.41 20L4 18.59l7.72-7.72 1.47 1.35L5.41 20z\"/>\n",
              "  </svg>\n",
              "      </button>\n",
              "      \n",
              "  <style>\n",
              "    .colab-df-container {\n",
              "      display:flex;\n",
              "      flex-wrap:wrap;\n",
              "      gap: 12px;\n",
              "    }\n",
              "\n",
              "    .colab-df-convert {\n",
              "      background-color: #E8F0FE;\n",
              "      border: none;\n",
              "      border-radius: 50%;\n",
              "      cursor: pointer;\n",
              "      display: none;\n",
              "      fill: #1967D2;\n",
              "      height: 32px;\n",
              "      padding: 0 0 0 0;\n",
              "      width: 32px;\n",
              "    }\n",
              "\n",
              "    .colab-df-convert:hover {\n",
              "      background-color: #E2EBFA;\n",
              "      box-shadow: 0px 1px 2px rgba(60, 64, 67, 0.3), 0px 1px 3px 1px rgba(60, 64, 67, 0.15);\n",
              "      fill: #174EA6;\n",
              "    }\n",
              "\n",
              "    [theme=dark] .colab-df-convert {\n",
              "      background-color: #3B4455;\n",
              "      fill: #D2E3FC;\n",
              "    }\n",
              "\n",
              "    [theme=dark] .colab-df-convert:hover {\n",
              "      background-color: #434B5C;\n",
              "      box-shadow: 0px 1px 3px 1px rgba(0, 0, 0, 0.15);\n",
              "      filter: drop-shadow(0px 1px 2px rgba(0, 0, 0, 0.3));\n",
              "      fill: #FFFFFF;\n",
              "    }\n",
              "  </style>\n",
              "\n",
              "      <script>\n",
              "        const buttonEl =\n",
              "          document.querySelector('#df-134a60ae-9c5b-439c-b433-3b5c1d9c85df button.colab-df-convert');\n",
              "        buttonEl.style.display =\n",
              "          google.colab.kernel.accessAllowed ? 'block' : 'none';\n",
              "\n",
              "        async function convertToInteractive(key) {\n",
              "          const element = document.querySelector('#df-134a60ae-9c5b-439c-b433-3b5c1d9c85df');\n",
              "          const dataTable =\n",
              "            await google.colab.kernel.invokeFunction('convertToInteractive',\n",
              "                                                     [key], {});\n",
              "          if (!dataTable) return;\n",
              "\n",
              "          const docLinkHtml = 'Like what you see? Visit the ' +\n",
              "            '<a target=\"_blank\" href=https://colab.research.google.com/notebooks/data_table.ipynb>data table notebook</a>'\n",
              "            + ' to learn more about interactive tables.';\n",
              "          element.innerHTML = '';\n",
              "          dataTable['output_type'] = 'display_data';\n",
              "          await google.colab.output.renderOutput(dataTable, element);\n",
              "          const docLink = document.createElement('div');\n",
              "          docLink.innerHTML = docLinkHtml;\n",
              "          element.appendChild(docLink);\n",
              "        }\n",
              "      </script>\n",
              "    </div>\n",
              "  </div>\n",
              "  "
            ]
          },
          "metadata": {},
          "execution_count": 564
        }
      ]
    },
    {
      "cell_type": "code",
      "source": [
        "df.playlist_id.nunique(), df.track.nunique(), df.track_id.nunique()"
      ],
      "metadata": {
        "colab": {
          "base_uri": "https://localhost:8080/"
        },
        "id": "ZSXWl74H8iyo",
        "outputId": "bc99b737-796d-4e66-b240-c4b30663ce2a"
      },
      "execution_count": 518,
      "outputs": [
        {
          "output_type": "execute_result",
          "data": {
            "text/plain": [
              "(5000, 108870, 108870)"
            ]
          },
          "metadata": {},
          "execution_count": 518
        }
      ]
    },
    {
      "cell_type": "code",
      "source": [
        "edge_index = torch.tensor(df[['playlist_id', 'track_id']].T.to_numpy(), dtype=torch.long)\n",
        "edge_index.shape"
      ],
      "metadata": {
        "colab": {
          "base_uri": "https://localhost:8080/"
        },
        "id": "vyf4-dWELr6t",
        "outputId": "3465666e-d4e3-4538-e5e9-4cd3b58984e8"
      },
      "execution_count": 565,
      "outputs": [
        {
          "output_type": "execute_result",
          "data": {
            "text/plain": [
              "torch.Size([2, 664712])"
            ]
          },
          "metadata": {},
          "execution_count": 565
        }
      ]
    },
    {
      "cell_type": "code",
      "source": [
        "x = torch.cat([\n",
        "    torch.tensor(df.playlist_id.unique().reshape((-1,1)), dtype=torch.float),\n",
        "    torch.tensor(df.track_id.unique().reshape((-1,1)), dtype=torch.float),\n",
        "])\n",
        "x.shape"
      ],
      "metadata": {
        "colab": {
          "base_uri": "https://localhost:8080/"
        },
        "id": "xkl7SfvvMyoJ",
        "outputId": "d183bc11-f05e-49cf-93ce-9e25b6b309b3"
      },
      "execution_count": 566,
      "outputs": [
        {
          "output_type": "execute_result",
          "data": {
            "text/plain": [
              "torch.Size([180089, 1])"
            ]
          },
          "metadata": {},
          "execution_count": 566
        }
      ]
    },
    {
      "cell_type": "code",
      "source": [
        "data = Data(x=x, edge_index=edge_index)\n",
        "data"
      ],
      "metadata": {
        "colab": {
          "base_uri": "https://localhost:8080/"
        },
        "id": "WcQTUW9gM_zG",
        "outputId": "1b49e4d6-367e-48f8-8a5f-80e2f7290a12"
      },
      "execution_count": 567,
      "outputs": [
        {
          "output_type": "execute_result",
          "data": {
            "text/plain": [
              "Data(x=[180089, 1], edge_index=[2, 664712])"
            ]
          },
          "metadata": {},
          "execution_count": 567
        }
      ]
    },
    {
      "cell_type": "markdown",
      "source": [
        "# extract a k-core"
      ],
      "metadata": {
        "id": "hTiNpLOCeZaP"
      }
    },
    {
      "cell_type": "code",
      "source": [
        "from torch_geometric.utils import to_networkx, from_networkx\n",
        "from torch_geometric.transforms import RandomLinkSplit\n",
        "import networkx"
      ],
      "metadata": {
        "id": "0JGVabvXdPyE"
      },
      "execution_count": 17,
      "outputs": []
    },
    {
      "cell_type": "code",
      "source": [
        "max(networkx.core_number(to_networkx(data)).values())"
      ],
      "metadata": {
        "colab": {
          "base_uri": "https://localhost:8080/"
        },
        "id": "_hPL3-Ohh1cG",
        "outputId": "b4aa0572-e8c8-4a3a-91e4-a46d5300263a"
      },
      "execution_count": 568,
      "outputs": [
        {
          "output_type": "execute_result",
          "data": {
            "text/plain": [
              "33"
            ]
          },
          "metadata": {},
          "execution_count": 568
        }
      ]
    },
    {
      "cell_type": "code",
      "source": [
        "kcore_data = to_networkx(data)\n",
        "print(kcore_data.number_of_nodes(), kcore_data.number_of_edges())\n",
        "kcore_data = networkx.k_core(kcore_data, k=19)\n",
        "print(kcore_data.number_of_nodes(), kcore_data.number_of_edges())\n",
        "kcore_data = from_networkx(kcore_data)\n",
        "kcore_data"
      ],
      "metadata": {
        "id": "KIVEeW1EdYIN",
        "colab": {
          "base_uri": "https://localhost:8080/"
        },
        "outputId": "82bccee7-5e4d-4146-e6fc-37b256529838"
      },
      "execution_count": 569,
      "outputs": [
        {
          "output_type": "stream",
          "name": "stdout",
          "text": [
            "180089 656152\n",
            "9430 246371\n"
          ]
        },
        {
          "output_type": "execute_result",
          "data": {
            "text/plain": [
              "Data(edge_index=[2, 246371], num_nodes=9430)"
            ]
          },
          "metadata": {},
          "execution_count": 569
        }
      ]
    },
    {
      "cell_type": "code",
      "source": [
        "train_data, val_data, test_data = RandomLinkSplit()(kcore_data)\n",
        "train_data, val_data, test_data"
      ],
      "metadata": {
        "colab": {
          "base_uri": "https://localhost:8080/"
        },
        "id": "lSnHPd8FeJ3Y",
        "outputId": "804999f9-d7c3-446d-e260-dfacdb1c6798"
      },
      "execution_count": 570,
      "outputs": [
        {
          "output_type": "execute_result",
          "data": {
            "text/plain": [
              "(Data(edge_index=[2, 172460], num_nodes=9430, edge_label=[344920], edge_label_index=[2, 344920]),\n",
              " Data(edge_index=[2, 172460], num_nodes=9430, edge_label=[49274], edge_label_index=[2, 49274]),\n",
              " Data(edge_index=[2, 197097], num_nodes=9430, edge_label=[98548], edge_label_index=[2, 98548]))"
            ]
          },
          "metadata": {},
          "execution_count": 570
        }
      ]
    },
    {
      "cell_type": "markdown",
      "source": [
        "# define the loss function"
      ],
      "metadata": {
        "id": "sDW551wXfBKq"
      }
    },
    {
      "cell_type": "code",
      "source": [
        "def bpr_loss(pos_similarities, neg_similarities):\n",
        "  return -torch.nn.functional.logsigmoid(pos_similarities - neg_similarities).mean()"
      ],
      "metadata": {
        "id": "m0NOxrAi5zSz"
      },
      "execution_count": 408,
      "outputs": []
    },
    {
      "cell_type": "markdown",
      "source": [
        "# define the model"
      ],
      "metadata": {
        "id": "VBo_UwXrfQ4a"
      }
    },
    {
      "cell_type": "code",
      "source": [
        "class ModelSAGE(LightGCN):\n",
        "  def __init__(self, **kwargs):\n",
        "    super().__init__(**kwargs)\n",
        "    self.convs = torch.nn.ModuleList([SAGEConv(\n",
        "      in_channels=self.embedding_dim,\n",
        "      out_channels=self.embedding_dim,\n",
        "      # dropout=.2,\n",
        "      **kwargs,\n",
        "    ) for _ in range(self.num_layers)])\n",
        "    self.reset_parameters()\n",
        "  def forward(self, edge_index):\n",
        "    out = self.get_embedding(edge_index)\n",
        "    out_src = out[edge_index[0]]\n",
        "    out_dst = out[edge_index[1]]\n",
        "    return out_src, out_dst"
      ],
      "metadata": {
        "id": "4rSmKsDZox8S"
      },
      "execution_count": 511,
      "outputs": []
    },
    {
      "cell_type": "markdown",
      "source": [
        "# train the model"
      ],
      "metadata": {
        "id": "a9Bg0-OUfbOv"
      }
    },
    {
      "cell_type": "code",
      "source": [
        "train_loader = DataLoader(train_data.edge_index.T, batch_size=1024 * 200, shuffle=True)\n",
        "val_loader = DataLoader(val_data.edge_index.T, batch_size=1024 * 200, shuffle=False)"
      ],
      "metadata": {
        "id": "ogEs8PuTXoyU"
      },
      "execution_count": 571,
      "outputs": []
    },
    {
      "cell_type": "code",
      "source": [
        "data = data.to(device)"
      ],
      "metadata": {
        "id": "ZBwTCfa-Y7s5"
      },
      "execution_count": 573,
      "outputs": []
    },
    {
      "cell_type": "code",
      "source": [
        "m = ModelSAGE(\n",
        "    num_nodes=kcore_data.num_nodes,\n",
        "    embedding_dim=32,\n",
        "    num_layers=3,\n",
        ").to(device)\n",
        "optimizer = torch.optim.AdamW(m.parameters(), lr=1e-2, weight_decay=5e-4)"
      ],
      "metadata": {
        "id": "npsjb3S7ppyS"
      },
      "execution_count": 581,
      "outputs": []
    },
    {
      "cell_type": "code",
      "source": [
        "train_losses = []\n",
        "val_losses = []\n",
        "\n",
        "def process(m, dataloader):\n",
        "  loss = 0\n",
        "  for batch in dataloader:\n",
        "    # batch of positive samples\n",
        "    batch = batch.T\n",
        "    # batch of negative samples\n",
        "    playlist_index, pos_track_index, neg_track_index = structured_negative_sampling(batch, contains_neg_self_loops=False)\n",
        "    neg_batch = torch.stack([playlist_index, neg_track_index], dim=0)\n",
        "    # get embeddings for playlist (src) and track (dst)\n",
        "    src, dst = m(torch.cat([batch, neg_batch], dim=1))\n",
        "    pos_src, pos_dst = src[:batch.shape[1]], dst[:batch.shape[1]]\n",
        "    neg_src, neg_dst = src[batch.shape[1]:], dst[batch.shape[1]:]\n",
        "    pos_similarities = (pos_src * pos_dst).sum(dim=-1)\n",
        "    neg_similarities = (neg_src * neg_dst).sum(dim=-1)\n",
        "    # calculate Bayesian personalized ranking loss\n",
        "    loss += bpr_loss(pos_similarities, neg_similarities)\n",
        "    # add regularization to favour unit vector\n",
        "    loss += .05 * (1 - (src * src).sum(dim=-1)).square().mean()\n",
        "    loss += .05 * (1 - (dst * dst).sum(dim=-1)).square().mean()\n",
        "  return loss\n",
        "\n",
        "m.train()\n",
        "for epoch in trange(300):\n",
        "  optimizer.zero_grad()\n",
        "  # train\n",
        "  train_loss = process(m, train_loader)\n",
        "  train_losses.append(train_loss.item())\n",
        "  # validate\n",
        "  with torch.no_grad():\n",
        "    val_loss = process(m, val_loader)\n",
        "  val_losses.append(val_loss.item())\n",
        "  # backpropagate\n",
        "  train_loss.backward()\n",
        "  optimizer.step()"
      ],
      "metadata": {
        "colab": {
          "base_uri": "https://localhost:8080/",
          "height": 49,
          "referenced_widgets": [
            "fd56f4800b1a4b0c97c34744ceb8d501",
            "7bbb78a522ad4b129f01798564295b88",
            "f90213f013144d569434a7e9b9763f00",
            "e3b7d16475904d56aaa3711df51c7798",
            "bdf8f2e92e5a4318954aa8c0744fa3c6",
            "cd162562041f4df094a6a414f6dae72d",
            "1569e1fb4f8f4517a1e304e18b73d292",
            "c9a78494337a40018d79dcfa297d82eb",
            "06d797f63627458eb8af3490603549c6",
            "8cca4a9bb48d4b6aa33473e1e1de49a5",
            "c12f39fb53ca46e4a2064080bf5d254d"
          ]
        },
        "id": "NP-tc_6REnyh",
        "outputId": "6c8d91e4-db25-4f09-ab6f-a3ed8454f2ab"
      },
      "execution_count": 582,
      "outputs": [
        {
          "output_type": "display_data",
          "data": {
            "text/plain": [
              "  0%|          | 0/300 [00:00<?, ?it/s]"
            ],
            "application/vnd.jupyter.widget-view+json": {
              "version_major": 2,
              "version_minor": 0,
              "model_id": "fd56f4800b1a4b0c97c34744ceb8d501"
            }
          },
          "metadata": {}
        }
      ]
    },
    {
      "cell_type": "code",
      "source": [
        "print(train_losses[-1])\n",
        "pd.DataFrame({\n",
        "    'train': train_losses,\n",
        "    'val': val_losses,\n",
        "}).plot.line(logy=True);"
      ],
      "metadata": {
        "colab": {
          "base_uri": "https://localhost:8080/",
          "height": 455
        },
        "id": "zFRPtE8Z_RNs",
        "outputId": "b65b2ff8-61dd-42a4-d549-949c9100618c"
      },
      "execution_count": 583,
      "outputs": [
        {
          "output_type": "stream",
          "name": "stdout",
          "text": [
            "0.3503769636154175\n"
          ]
        },
        {
          "output_type": "display_data",
          "data": {
            "text/plain": [
              "<Figure size 640x480 with 1 Axes>"
            ],
            "image/png": "[encoded data removed]"
          },
          "metadata": {}
        }
      ]
    },
    {
      "cell_type": "code",
      "source": [
        "# k_core = 19\n",
        "# embedding_dim = 32\n",
        "# num_layers = 3\n",
        "# max_epochs = 300\n",
        "\n",
        "m.eval()\n",
        "with torch.no_grad():\n",
        "  for d in [train_data, val_data, test_data]:\n",
        "    pos_edges = d.edge_index\n",
        "    node_index, positive_track_index, negative_track_index = structured_negative_sampling(d.edge_index)\n",
        "    neg_edges = torch.stack([node_index, negative_track_index], dim=0)\n",
        "    all_edges = torch.cat([pos_edges, neg_edges], axis=1)\n",
        "    src, dst = m(all_edges)\n",
        "    p = (src * dst).sum(dim=-1).sigmoid()\n",
        "    print('pos loss value:', float((src[:pos_edges.shape[1]] * dst[:pos_edges.shape[1]]).sum(dim=-1).mean()))\n",
        "    print('neg loss value:', float((src[-neg_edges.shape[1]:] * dst[-neg_edges.shape[1]:]).sum(dim=-1).mean()))\n",
        "    print('loss value:', float((src * dst).sum(dim=-1).mean()))\n",
        "    print('length:', float(torch.cat([(src * src).sum(dim=-1),(dst * dst).sum(dim=-1)], dim=0).mean()))\n",
        "    print('roc auc score:', sk.metrics.roc_auc_score([1] * pos_edges.shape[1] + [0] * neg_edges.shape[1], p))\n",
        "    print(sk.metrics.classification_report([True] * pos_edges.shape[1] + [False] * neg_edges.shape[1], p >= .5))"
      ],
      "metadata": {
        "colab": {
          "base_uri": "https://localhost:8080/"
        },
        "id": "huIuVjpLi07o",
        "outputId": "1b3fac7b-0eb3-4a30-d534-3eddd696481e"
      },
      "execution_count": 584,
      "outputs": [
        {
          "output_type": "stream",
          "name": "stdout",
          "text": [
            "pos loss value: 1.2327536344528198\n",
            "neg loss value: -0.011112694628536701\n",
            "loss value: 0.610820472240448\n",
            "length: 1.589476227760315\n",
            "roc auc score: 0.9311611674439103\n",
            "              precision    recall  f1-score   support\n",
            "\n",
            "       False       0.97      0.55      0.70    172460\n",
            "        True       0.69      0.99      0.81    172460\n",
            "\n",
            "    accuracy                           0.77    344920\n",
            "   macro avg       0.83      0.77      0.75    344920\n",
            "weighted avg       0.83      0.77      0.75    344920\n",
            "\n",
            "pos loss value: 1.2336978912353516\n",
            "neg loss value: -0.01260021049529314\n",
            "loss value: 0.6105489134788513\n",
            "length: 1.5907001495361328\n",
            "roc auc score: 0.9321875453602486\n",
            "              precision    recall  f1-score   support\n",
            "\n",
            "       False       0.97      0.55      0.70    172460\n",
            "        True       0.69      0.99      0.81    172460\n",
            "\n",
            "    accuracy                           0.77    344920\n",
            "   macro avg       0.83      0.77      0.75    344920\n",
            "weighted avg       0.83      0.77      0.75    344920\n",
            "\n",
            "pos loss value: 1.2272701263427734\n",
            "neg loss value: -0.0147774713113904\n",
            "loss value: 0.606246292591095\n",
            "length: 1.5910532474517822\n",
            "roc auc score: 0.9304210119800264\n",
            "              precision    recall  f1-score   support\n",
            "\n",
            "       False       0.97      0.55      0.70    197097\n",
            "        True       0.69      0.98      0.81    197097\n",
            "\n",
            "    accuracy                           0.77    394194\n",
            "   macro avg       0.83      0.77      0.76    394194\n",
            "weighted avg       0.83      0.77      0.76    394194\n",
            "\n"
          ]
        }
      ]
    },
    {
      "cell_type": "code",
      "source": [
        "# k_core = 19\n",
        "# embedding_dim = 32\n",
        "# num_layers = 1\n",
        "# max_epochs = 300\n",
        "\n",
        "m.eval()\n",
        "with torch.no_grad():\n",
        "  for d in [train_data, val_data, test_data]:\n",
        "    pos_edges = d.edge_index\n",
        "    node_index, positive_track_index, negative_track_index = structured_negative_sampling(d.edge_index)\n",
        "    neg_edges = torch.stack([node_index, negative_track_index], dim=0)\n",
        "    all_edges = torch.cat([pos_edges, neg_edges], axis=1)\n",
        "    src, dst = m(all_edges)\n",
        "    p = (src * dst).sum(dim=-1).sigmoid()\n",
        "    print('pos loss value:', float((src[:pos_edges.shape[1]] * dst[:pos_edges.shape[1]]).sum(dim=-1).mean()))\n",
        "    print('neg loss value:', float((src[-neg_edges.shape[1]:] * dst[-neg_edges.shape[1]:]).sum(dim=-1).mean()))\n",
        "    print('loss value:', float((src * dst).sum(dim=-1).mean()))\n",
        "    print('length:', float(torch.cat([(src * src).sum(dim=-1),(dst * dst).sum(dim=-1)], dim=0).mean()))\n",
        "    print('roc auc score:', sk.metrics.roc_auc_score([1] * pos_edges.shape[1] + [0] * neg_edges.shape[1], p))\n",
        "    print(sk.metrics.classification_report([True] * pos_edges.shape[1] + [False] * neg_edges.shape[1], p >= .5))"
      ],
      "metadata": {
        "colab": {
          "base_uri": "https://localhost:8080/"
        },
        "id": "gY7N_Kv_tATd",
        "outputId": "aee55da2-85d9-4a82-bca3-42f2e57dfa17"
      },
      "execution_count": 580,
      "outputs": [
        {
          "output_type": "stream",
          "name": "stdout",
          "text": [
            "pos loss value: 1.2220377922058105\n",
            "neg loss value: -0.014159683138132095\n",
            "loss value: 0.6039391160011292\n",
            "length: 1.5964651107788086\n",
            "roc auc score: 0.9378065409376005\n",
            "              precision    recall  f1-score   support\n",
            "\n",
            "       False       0.98      0.56      0.71    172460\n",
            "        True       0.69      0.99      0.81    172460\n",
            "\n",
            "    accuracy                           0.77    344920\n",
            "   macro avg       0.84      0.77      0.76    344920\n",
            "weighted avg       0.84      0.77      0.76    344920\n",
            "\n",
            "pos loss value: 1.2230125665664673\n",
            "neg loss value: -0.015605158172547817\n",
            "loss value: 0.6037037372589111\n",
            "length: 1.5979833602905273\n",
            "roc auc score: 0.9378900210768101\n",
            "              precision    recall  f1-score   support\n",
            "\n",
            "       False       0.98      0.56      0.71    172460\n",
            "        True       0.69      0.99      0.81    172460\n",
            "\n",
            "    accuracy                           0.78    344920\n",
            "   macro avg       0.84      0.78      0.76    344920\n",
            "weighted avg       0.84      0.78      0.76    344920\n",
            "\n",
            "pos loss value: 1.2157551050186157\n",
            "neg loss value: -0.011594175361096859\n",
            "loss value: 0.6020804643630981\n",
            "length: 1.597751498222351\n",
            "roc auc score: 0.935422712421973\n",
            "              precision    recall  f1-score   support\n",
            "\n",
            "       False       0.98      0.56      0.71    197097\n",
            "        True       0.69      0.99      0.81    197097\n",
            "\n",
            "    accuracy                           0.77    394194\n",
            "   macro avg       0.83      0.77      0.76    394194\n",
            "weighted avg       0.83      0.77      0.76    394194\n",
            "\n"
          ]
        }
      ]
    }
  ]
}