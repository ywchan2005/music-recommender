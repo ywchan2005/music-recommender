{
  "nbformat": 4,
  "nbformat_minor": 0,
  "metadata": {
    "colab": {
      "provenance": []
    },
    "kernelspec": {
      "name": "python3",
      "display_name": "Python 3"
    },
    "language_info": {
      "name": "python"
    },
    "widgets": {
      "application/vnd.jupyter.widget-state+json": {
        "48e0b0f545d94a31b4ae58bbea6f6e52": {
          "model_module": "@jupyter-widgets/controls",
          "model_name": "HBoxModel",
          "model_module_version": "1.5.0",
          "state": {
            "_dom_classes": [],
            "_model_module": "@jupyter-widgets/controls",
            "_model_module_version": "1.5.0",
            "_model_name": "HBoxModel",
            "_view_count": null,
            "_view_module": "@jupyter-widgets/controls",
            "_view_module_version": "1.5.0",
            "_view_name": "HBoxView",
            "box_style": "",
            "children": [
              "IPY_MODEL_678d1e57ae3b447aadf67de89e70ab08",
              "IPY_MODEL_6b920fe40546482895846505c8d890d1",
              "IPY_MODEL_c8e4c30b411541969e1c0e1ec466452e"
            ],
            "layout": "IPY_MODEL_7ead05df6678488ab3fa0a80a51d2b6a"
          }
        },
        "678d1e57ae3b447aadf67de89e70ab08": {
          "model_module": "@jupyter-widgets/controls",
          "model_name": "HTMLModel",
          "model_module_version": "1.5.0",
          "state": {
            "_dom_classes": [],
            "_model_module": "@jupyter-widgets/controls",
            "_model_module_version": "1.5.0",
            "_model_name": "HTMLModel",
            "_view_count": null,
            "_view_module": "@jupyter-widgets/controls",
            "_view_module_version": "1.5.0",
            "_view_name": "HTMLView",
            "description": "",
            "description_tooltip": null,
            "layout": "IPY_MODEL_dcb4d12095a14e0aa344c73c36f57136",
            "placeholder": "​",
            "style": "IPY_MODEL_e5c8355e673244f491774c5bfda3f7e9",
            "value": "100%"
          }
        },
        "6b920fe40546482895846505c8d890d1": {
          "model_module": "@jupyter-widgets/controls",
          "model_name": "FloatProgressModel",
          "model_module_version": "1.5.0",
          "state": {
            "_dom_classes": [],
            "_model_module": "@jupyter-widgets/controls",
            "_model_module_version": "1.5.0",
            "_model_name": "FloatProgressModel",
            "_view_count": null,
            "_view_module": "@jupyter-widgets/controls",
            "_view_module_version": "1.5.0",
            "_view_name": "ProgressView",
            "bar_style": "success",
            "description": "",
            "description_tooltip": null,
            "layout": "IPY_MODEL_5af7a28b1a4540ed9729ae1923e6aac6",
            "max": 300,
            "min": 0,
            "orientation": "horizontal",
            "style": "IPY_MODEL_9bee296fb48f40c6ad57278c2201894a",
            "value": 300
          }
        },
        "c8e4c30b411541969e1c0e1ec466452e": {
          "model_module": "@jupyter-widgets/controls",
          "model_name": "HTMLModel",
          "model_module_version": "1.5.0",
          "state": {
            "_dom_classes": [],
            "_model_module": "@jupyter-widgets/controls",
            "_model_module_version": "1.5.0",
            "_model_name": "HTMLModel",
            "_view_count": null,
            "_view_module": "@jupyter-widgets/controls",
            "_view_module_version": "1.5.0",
            "_view_name": "HTMLView",
            "description": "",
            "description_tooltip": null,
            "layout": "IPY_MODEL_282594a5d49041cca0de90c7a6f9fd4d",
            "placeholder": "​",
            "style": "IPY_MODEL_7bdb162783874c70a8cfc32984379b4d",
            "value": " 300/300 [19:15&lt;00:00,  3.90s/it]"
          }
        },
        "7ead05df6678488ab3fa0a80a51d2b6a": {
          "model_module": "@jupyter-widgets/base",
          "model_name": "LayoutModel",
          "model_module_version": "1.2.0",
          "state": {
            "_model_module": "@jupyter-widgets/base",
            "_model_module_version": "1.2.0",
            "_model_name": "LayoutModel",
            "_view_count": null,
            "_view_module": "@jupyter-widgets/base",
            "_view_module_version": "1.2.0",
            "_view_name": "LayoutView",
            "align_content": null,
            "align_items": null,
            "align_self": null,
            "border": null,
            "bottom": null,
            "display": null,
            "flex": null,
            "flex_flow": null,
            "grid_area": null,
            "grid_auto_columns": null,
            "grid_auto_flow": null,
            "grid_auto_rows": null,
            "grid_column": null,
            "grid_gap": null,
            "grid_row": null,
            "grid_template_areas": null,
            "grid_template_columns": null,
            "grid_template_rows": null,
            "height": null,
            "justify_content": null,
            "justify_items": null,
            "left": null,
            "margin": null,
            "max_height": null,
            "max_width": null,
            "min_height": null,
            "min_width": null,
            "object_fit": null,
            "object_position": null,
            "order": null,
            "overflow": null,
            "overflow_x": null,
            "overflow_y": null,
            "padding": null,
            "right": null,
            "top": null,
            "visibility": null,
            "width": null
          }
        },
        "dcb4d12095a14e0aa344c73c36f57136": {
          "model_module": "@jupyter-widgets/base",
          "model_name": "LayoutModel",
          "model_module_version": "1.2.0",
          "state": {
            "_model_module": "@jupyter-widgets/base",
            "_model_module_version": "1.2.0",
            "_model_name": "LayoutModel",
            "_view_count": null,
            "_view_module": "@jupyter-widgets/base",
            "_view_module_version": "1.2.0",
            "_view_name": "LayoutView",
            "align_content": null,
            "align_items": null,
            "align_self": null,
            "border": null,
            "bottom": null,
            "display": null,
            "flex": null,
            "flex_flow": null,
            "grid_area": null,
            "grid_auto_columns": null,
            "grid_auto_flow": null,
            "grid_auto_rows": null,
            "grid_column": null,
            "grid_gap": null,
            "grid_row": null,
            "grid_template_areas": null,
            "grid_template_columns": null,
            "grid_template_rows": null,
            "height": null,
            "justify_content": null,
            "justify_items": null,
            "left": null,
            "margin": null,
            "max_height": null,
            "max_width": null,
            "min_height": null,
            "min_width": null,
            "object_fit": null,
            "object_position": null,
            "order": null,
            "overflow": null,
            "overflow_x": null,
            "overflow_y": null,
            "padding": null,
            "right": null,
            "top": null,
            "visibility": null,
            "width": null
          }
        },
        "e5c8355e673244f491774c5bfda3f7e9": {
          "model_module": "@jupyter-widgets/controls",
          "model_name": "DescriptionStyleModel",
          "model_module_version": "1.5.0",
          "state": {
            "_model_module": "@jupyter-widgets/controls",
            "_model_module_version": "1.5.0",
            "_model_name": "DescriptionStyleModel",
            "_view_count": null,
            "_view_module": "@jupyter-widgets/base",
            "_view_module_version": "1.2.0",
            "_view_name": "StyleView",
            "description_width": ""
          }
        },
        "5af7a28b1a4540ed9729ae1923e6aac6": {
          "model_module": "@jupyter-widgets/base",
          "model_name": "LayoutModel",
          "model_module_version": "1.2.0",
          "state": {
            "_model_module": "@jupyter-widgets/base",
            "_model_module_version": "1.2.0",
            "_model_name": "LayoutModel",
            "_view_count": null,
            "_view_module": "@jupyter-widgets/base",
            "_view_module_version": "1.2.0",
            "_view_name": "LayoutView",
            "align_content": null,
            "align_items": null,
            "align_self": null,
            "border": null,
            "bottom": null,
            "display": null,
            "flex": null,
            "flex_flow": null,
            "grid_area": null,
            "grid_auto_columns": null,
            "grid_auto_flow": null,
            "grid_auto_rows": null,
            "grid_column": null,
            "grid_gap": null,
            "grid_row": null,
            "grid_template_areas": null,
            "grid_template_columns": null,
            "grid_template_rows": null,
            "height": null,
            "justify_content": null,
            "justify_items": null,
            "left": null,
            "margin": null,
            "max_height": null,
            "max_width": null,
            "min_height": null,
            "min_width": null,
            "object_fit": null,
            "object_position": null,
            "order": null,
            "overflow": null,
            "overflow_x": null,
            "overflow_y": null,
            "padding": null,
            "right": null,
            "top": null,
            "visibility": null,
            "width": null
          }
        },
        "9bee296fb48f40c6ad57278c2201894a": {
          "model_module": "@jupyter-widgets/controls",
          "model_name": "ProgressStyleModel",
          "model_module_version": "1.5.0",
          "state": {
            "_model_module": "@jupyter-widgets/controls",
            "_model_module_version": "1.5.0",
            "_model_name": "ProgressStyleModel",
            "_view_count": null,
            "_view_module": "@jupyter-widgets/base",
            "_view_module_version": "1.2.0",
            "_view_name": "StyleView",
            "bar_color": null,
            "description_width": ""
          }
        },
        "282594a5d49041cca0de90c7a6f9fd4d": {
          "model_module": "@jupyter-widgets/base",
          "model_name": "LayoutModel",
          "model_module_version": "1.2.0",
          "state": {
            "_model_module": "@jupyter-widgets/base",
            "_model_module_version": "1.2.0",
            "_model_name": "LayoutModel",
            "_view_count": null,
            "_view_module": "@jupyter-widgets/base",
            "_view_module_version": "1.2.0",
            "_view_name": "LayoutView",
            "align_content": null,
            "align_items": null,
            "align_self": null,
            "border": null,
            "bottom": null,
            "display": null,
            "flex": null,
            "flex_flow": null,
            "grid_area": null,
            "grid_auto_columns": null,
            "grid_auto_flow": null,
            "grid_auto_rows": null,
            "grid_column": null,
            "grid_gap": null,
            "grid_row": null,
            "grid_template_areas": null,
            "grid_template_columns": null,
            "grid_template_rows": null,
            "height": null,
            "justify_content": null,
            "justify_items": null,
            "left": null,
            "margin": null,
            "max_height": null,
            "max_width": null,
            "min_height": null,
            "min_width": null,
            "object_fit": null,
            "object_position": null,
            "order": null,
            "overflow": null,
            "overflow_x": null,
            "overflow_y": null,
            "padding": null,
            "right": null,
            "top": null,
            "visibility": null,
            "width": null
          }
        },
        "7bdb162783874c70a8cfc32984379b4d": {
          "model_module": "@jupyter-widgets/controls",
          "model_name": "DescriptionStyleModel",
          "model_module_version": "1.5.0",
          "state": {
            "_model_module": "@jupyter-widgets/controls",
            "_model_module_version": "1.5.0",
            "_model_name": "DescriptionStyleModel",
            "_view_count": null,
            "_view_module": "@jupyter-widgets/base",
            "_view_module_version": "1.2.0",
            "_view_name": "StyleView",
            "description_width": ""
          }
        }
      }
    }
  },
  "cells": [
    {
      "cell_type": "code",
      "source": [
        "!pip install -q torch_geometric"
      ],
      "metadata": {
        "colab": {
          "base_uri": "https://localhost:8080/"
        },
        "id": "GVgzOxUms3ga",
        "outputId": "dd017b24-61a6-419f-bf45-0034f709cb61"
      },
      "execution_count": 1,
      "outputs": [
        {
          "output_type": "stream",
          "name": "stdout",
          "text": [
            "\u001b[?25l     \u001b[90m━━━━━━━━━━━━━━━━━━━━━━━━━━━━━━━━━━━━━━━━\u001b[0m \u001b[32m0.0/661.6 kB\u001b[0m \u001b[31m?\u001b[0m eta \u001b[36m-:--:--\u001b[0m\r\u001b[2K     \u001b[91m━━━━━━━━━━━━━━━━\u001b[0m\u001b[91m╸\u001b[0m\u001b[90m━━━━━━━━━━━━━━━━━━━━━━\u001b[0m \u001b[32m286.7/661.6 kB\u001b[0m \u001b[31m8.5 MB/s\u001b[0m eta \u001b[36m0:00:01\u001b[0m\r\u001b[2K     \u001b[90m━━━━━━━━━━━━━━━━━━━━━━━━━━━━━━━━━━━━━━\u001b[0m \u001b[32m661.6/661.6 kB\u001b[0m \u001b[31m10.5 MB/s\u001b[0m eta \u001b[36m0:00:00\u001b[0m\n",
            "\u001b[?25h  Installing build dependencies ... \u001b[?25l\u001b[?25hdone\n",
            "  Getting requirements to build wheel ... \u001b[?25l\u001b[?25hdone\n",
            "  Preparing metadata (pyproject.toml) ... \u001b[?25l\u001b[?25hdone\n",
            "  Building wheel for torch_geometric (pyproject.toml) ... \u001b[?25l\u001b[?25hdone\n"
          ]
        }
      ]
    },
    {
      "cell_type": "code",
      "execution_count": 2,
      "metadata": {
        "id": "01LRZRlBn8vN"
      },
      "outputs": [],
      "source": [
        "from ast import literal_eval\n",
        "import json\n",
        "import pandas as pd\n",
        "import sklearn as sk\n",
        "import sklearn.model_selection\n",
        "import sklearn.metrics\n",
        "import torch\n",
        "from tqdm.notebook import trange"
      ]
    },
    {
      "cell_type": "code",
      "source": [
        "from torch_geometric.data import Data\n",
        "from torch_geometric.loader import DataLoader\n",
        "from torch_geometric.nn import LightGCN, GATConv, GATv2Conv\n",
        "from torch_geometric.utils import structured_negative_sampling"
      ],
      "metadata": {
        "id": "aTNS7DSaXix6"
      },
      "execution_count": 127,
      "outputs": []
    },
    {
      "cell_type": "code",
      "source": [
        "device = torch.device('cuda' if torch.cuda.is_available() else 'cpu')"
      ],
      "metadata": {
        "id": "akCBDxdBYy7A"
      },
      "execution_count": 4,
      "outputs": []
    },
    {
      "cell_type": "markdown",
      "source": [
        "# load playlist data"
      ],
      "metadata": {
        "id": "o8LrEkU1gRk7"
      }
    },
    {
      "cell_type": "code",
      "source": [
        "def load_playlists(filepath):\n",
        "  with open(filepath, 'r') as f:\n",
        "    jobj = json.load(f)\n",
        "    playlists = jobj['playlists']\n",
        "  return pd.DataFrame(data={\n",
        "      'playlist_id': [playlist['pid'] for playlist in playlists],\n",
        "      'track': [[track['track_uri'] for track in playlist['tracks']] for playlist in playlists],\n",
        "  }).explode('track').reset_index(drop=True)"
      ],
      "metadata": {
        "id": "KNc8X_oIo9ud"
      },
      "execution_count": 6,
      "outputs": []
    },
    {
      "cell_type": "code",
      "source": [
        "df = pd.concat([load_playlists(filepath) for filepath in [\n",
        "    './mpd.slice.0-999.json',\n",
        "    './mpd.slice.1000-1999.json',\n",
        "    './mpd.slice.2000-2999.json',\n",
        "    './mpd.slice.3000-3999.json',\n",
        "    './mpd.slice.4000-4999.json',\n",
        "    './mpd.slice.5000-5999.json',\n",
        "    './mpd.slice.6000-6999.json',\n",
        "    './mpd.slice.7000-7999.json',\n",
        "    './mpd.slice.8000-8999.json',\n",
        "    './mpd.slice.9000-9999.json',\n",
        "]]).reset_index(drop=True)\n",
        "df['track'] = df.track.astype('category')\n",
        "df['track_id'] = df.track.cat.codes + df.playlist_id.max() + 1\n",
        "print(df.shape)\n",
        "df.head()"
      ],
      "metadata": {
        "colab": {
          "base_uri": "https://localhost:8080/",
          "height": 224
        },
        "id": "aoXXxsezpNb6",
        "outputId": "f9f9c158-6449-430f-9dd3-f00c61697e44"
      },
      "execution_count": 137,
      "outputs": [
        {
          "output_type": "stream",
          "name": "stdout",
          "text": [
            "(664712, 3)\n"
          ]
        },
        {
          "output_type": "execute_result",
          "data": {
            "text/plain": [
              "   playlist_id                                 track  track_id\n",
              "0            0  spotify:track:0UaMYEvWZi0ZqiDOoHU3YI     20959\n",
              "1            0  spotify:track:6I9VzXrHxO9rA9A5euc8Ak    147484\n",
              "2            0  spotify:track:0WqIKmW4BTrj3eJFmnCKMv     21768\n",
              "3            0  spotify:track:1AWQoqb9bSvzTjaLralEkT     35799\n",
              "4            0  spotify:track:1lzr43nnXAijIGYnCT8M8H     48891"
            ],
            "text/html": [
              "\n",
              "  <div id=\"df-1cfefeb5-e7c2-48be-8126-79213d61b439\">\n",
              "    <div class=\"colab-df-container\">\n",
              "      <div>\n",
              "<style scoped>\n",
              "    .dataframe tbody tr th:only-of-type {\n",
              "        vertical-align: middle;\n",
              "    }\n",
              "\n",
              "    .dataframe tbody tr th {\n",
              "        vertical-align: top;\n",
              "    }\n",
              "\n",
              "    .dataframe thead th {\n",
              "        text-align: right;\n",
              "    }\n",
              "</style>\n",
              "<table border=\"1\" class=\"dataframe\">\n",
              "  <thead>\n",
              "    <tr style=\"text-align: right;\">\n",
              "      <th></th>\n",
              "      <th>playlist_id</th>\n",
              "      <th>track</th>\n",
              "      <th>track_id</th>\n",
              "    </tr>\n",
              "  </thead>\n",
              "  <tbody>\n",
              "    <tr>\n",
              "      <th>0</th>\n",
              "      <td>0</td>\n",
              "      <td>spotify:track:0UaMYEvWZi0ZqiDOoHU3YI</td>\n",
              "      <td>20959</td>\n",
              "    </tr>\n",
              "    <tr>\n",
              "      <th>1</th>\n",
              "      <td>0</td>\n",
              "      <td>spotify:track:6I9VzXrHxO9rA9A5euc8Ak</td>\n",
              "      <td>147484</td>\n",
              "    </tr>\n",
              "    <tr>\n",
              "      <th>2</th>\n",
              "      <td>0</td>\n",
              "      <td>spotify:track:0WqIKmW4BTrj3eJFmnCKMv</td>\n",
              "      <td>21768</td>\n",
              "    </tr>\n",
              "    <tr>\n",
              "      <th>3</th>\n",
              "      <td>0</td>\n",
              "      <td>spotify:track:1AWQoqb9bSvzTjaLralEkT</td>\n",
              "      <td>35799</td>\n",
              "    </tr>\n",
              "    <tr>\n",
              "      <th>4</th>\n",
              "      <td>0</td>\n",
              "      <td>spotify:track:1lzr43nnXAijIGYnCT8M8H</td>\n",
              "      <td>48891</td>\n",
              "    </tr>\n",
              "  </tbody>\n",
              "</table>\n",
              "</div>\n",
              "      <button class=\"colab-df-convert\" onclick=\"convertToInteractive('df-1cfefeb5-e7c2-48be-8126-79213d61b439')\"\n",
              "              title=\"Convert this dataframe to an interactive table.\"\n",
              "              style=\"display:none;\">\n",
              "        \n",
              "  <svg xmlns=\"http://www.w3.org/2000/svg\" height=\"24px\"viewBox=\"0 0 24 24\"\n",
              "       width=\"24px\">\n",
              "    <path d=\"M0 0h24v24H0V0z\" fill=\"none\"/>\n",
              "    <path d=\"M18.56 5.44l.94 2.06.94-2.06 2.06-.94-2.06-.94-.94-2.06-.94 2.06-2.06.94zm-11 1L8.5 8.5l.94-2.06 2.06-.94-2.06-.94L8.5 2.5l-.94 2.06-2.06.94zm10 10l.94 2.06.94-2.06 2.06-.94-2.06-.94-.94-2.06-.94 2.06-2.06.94z\"/><path d=\"M17.41 7.96l-1.37-1.37c-.4-.4-.92-.59-1.43-.59-.52 0-1.04.2-1.43.59L10.3 9.45l-7.72 7.72c-.78.78-.78 2.05 0 2.83L4 21.41c.39.39.9.59 1.41.59.51 0 1.02-.2 1.41-.59l7.78-7.78 2.81-2.81c.8-.78.8-2.07 0-2.86zM5.41 20L4 18.59l7.72-7.72 1.47 1.35L5.41 20z\"/>\n",
              "  </svg>\n",
              "      </button>\n",
              "      \n",
              "  <style>\n",
              "    .colab-df-container {\n",
              "      display:flex;\n",
              "      flex-wrap:wrap;\n",
              "      gap: 12px;\n",
              "    }\n",
              "\n",
              "    .colab-df-convert {\n",
              "      background-color: #E8F0FE;\n",
              "      border: none;\n",
              "      border-radius: 50%;\n",
              "      cursor: pointer;\n",
              "      display: none;\n",
              "      fill: #1967D2;\n",
              "      height: 32px;\n",
              "      padding: 0 0 0 0;\n",
              "      width: 32px;\n",
              "    }\n",
              "\n",
              "    .colab-df-convert:hover {\n",
              "      background-color: #E2EBFA;\n",
              "      box-shadow: 0px 1px 2px rgba(60, 64, 67, 0.3), 0px 1px 3px 1px rgba(60, 64, 67, 0.15);\n",
              "      fill: #174EA6;\n",
              "    }\n",
              "\n",
              "    [theme=dark] .colab-df-convert {\n",
              "      background-color: #3B4455;\n",
              "      fill: #D2E3FC;\n",
              "    }\n",
              "\n",
              "    [theme=dark] .colab-df-convert:hover {\n",
              "      background-color: #434B5C;\n",
              "      box-shadow: 0px 1px 3px 1px rgba(0, 0, 0, 0.15);\n",
              "      filter: drop-shadow(0px 1px 2px rgba(0, 0, 0, 0.3));\n",
              "      fill: #FFFFFF;\n",
              "    }\n",
              "  </style>\n",
              "\n",
              "      <script>\n",
              "        const buttonEl =\n",
              "          document.querySelector('#df-1cfefeb5-e7c2-48be-8126-79213d61b439 button.colab-df-convert');\n",
              "        buttonEl.style.display =\n",
              "          google.colab.kernel.accessAllowed ? 'block' : 'none';\n",
              "\n",
              "        async function convertToInteractive(key) {\n",
              "          const element = document.querySelector('#df-1cfefeb5-e7c2-48be-8126-79213d61b439');\n",
              "          const dataTable =\n",
              "            await google.colab.kernel.invokeFunction('convertToInteractive',\n",
              "                                                     [key], {});\n",
              "          if (!dataTable) return;\n",
              "\n",
              "          const docLinkHtml = 'Like what you see? Visit the ' +\n",
              "            '<a target=\"_blank\" href=https://colab.research.google.com/notebooks/data_table.ipynb>data table notebook</a>'\n",
              "            + ' to learn more about interactive tables.';\n",
              "          element.innerHTML = '';\n",
              "          dataTable['output_type'] = 'display_data';\n",
              "          await google.colab.output.renderOutput(dataTable, element);\n",
              "          const docLink = document.createElement('div');\n",
              "          docLink.innerHTML = docLinkHtml;\n",
              "          element.appendChild(docLink);\n",
              "        }\n",
              "      </script>\n",
              "    </div>\n",
              "  </div>\n",
              "  "
            ]
          },
          "metadata": {},
          "execution_count": 137
        }
      ]
    },
    {
      "cell_type": "code",
      "source": [
        "df.playlist_id.nunique(), df.track.nunique(), df.track_id.nunique()"
      ],
      "metadata": {
        "colab": {
          "base_uri": "https://localhost:8080/"
        },
        "id": "GBFJg-YycpqR",
        "outputId": "384dfddc-f9a9-4b33-b892-f1d73d4df55f"
      },
      "execution_count": 138,
      "outputs": [
        {
          "output_type": "execute_result",
          "data": {
            "text/plain": [
              "(10000, 170089, 170089)"
            ]
          },
          "metadata": {},
          "execution_count": 138
        }
      ]
    },
    {
      "cell_type": "code",
      "source": [
        "edge_index = torch.tensor(df[['playlist_id', 'track_id']].T.to_numpy(), dtype=torch.long)\n",
        "edge_index.shape"
      ],
      "metadata": {
        "colab": {
          "base_uri": "https://localhost:8080/"
        },
        "id": "vyf4-dWELr6t",
        "outputId": "9ea4ca47-139b-4858-b45b-3003e752313b"
      },
      "execution_count": 139,
      "outputs": [
        {
          "output_type": "execute_result",
          "data": {
            "text/plain": [
              "torch.Size([2, 664712])"
            ]
          },
          "metadata": {},
          "execution_count": 139
        }
      ]
    },
    {
      "cell_type": "code",
      "source": [
        "x = torch.cat([\n",
        "    torch.tensor(df.playlist_id.unique().reshape((-1,1)), dtype=torch.float),\n",
        "    torch.tensor(df.track_id.unique().reshape((-1,1)), dtype=torch.float),\n",
        "])\n",
        "x.shape"
      ],
      "metadata": {
        "colab": {
          "base_uri": "https://localhost:8080/"
        },
        "id": "xkl7SfvvMyoJ",
        "outputId": "fcc1d0d3-013d-4e82-abae-2143fb9a1d55"
      },
      "execution_count": 140,
      "outputs": [
        {
          "output_type": "execute_result",
          "data": {
            "text/plain": [
              "torch.Size([180089, 1])"
            ]
          },
          "metadata": {},
          "execution_count": 140
        }
      ]
    },
    {
      "cell_type": "code",
      "source": [
        "data = Data(x=x, edge_index=edge_index)\n",
        "data"
      ],
      "metadata": {
        "colab": {
          "base_uri": "https://localhost:8080/"
        },
        "id": "WcQTUW9gM_zG",
        "outputId": "bf071ede-9e4e-4742-bd18-16333702700b"
      },
      "execution_count": 141,
      "outputs": [
        {
          "output_type": "execute_result",
          "data": {
            "text/plain": [
              "Data(x=[180089, 1], edge_index=[2, 664712])"
            ]
          },
          "metadata": {},
          "execution_count": 141
        }
      ]
    },
    {
      "cell_type": "markdown",
      "source": [
        "# extract a k-core"
      ],
      "metadata": {
        "id": "5Jk47Fengapm"
      }
    },
    {
      "cell_type": "code",
      "source": [
        "from torch_geometric.utils import to_networkx, from_networkx\n",
        "from torch_geometric.transforms import RandomLinkSplit\n",
        "import networkx"
      ],
      "metadata": {
        "id": "0JGVabvXdPyE"
      },
      "execution_count": 17,
      "outputs": []
    },
    {
      "cell_type": "code",
      "source": [
        "max(networkx.core_number(to_networkx(data)).values())"
      ],
      "metadata": {
        "colab": {
          "base_uri": "https://localhost:8080/"
        },
        "id": "_hPL3-Ohh1cG",
        "outputId": "345db195-4444-472e-e10b-0566fef9e822"
      },
      "execution_count": 142,
      "outputs": [
        {
          "output_type": "execute_result",
          "data": {
            "text/plain": [
              "33"
            ]
          },
          "metadata": {},
          "execution_count": 142
        }
      ]
    },
    {
      "cell_type": "code",
      "source": [
        "kcore_data = to_networkx(data)\n",
        "print(kcore_data.number_of_nodes(), kcore_data.number_of_edges())\n",
        "kcore_data = networkx.k_core(kcore_data, k=19)\n",
        "print(kcore_data.number_of_nodes(), kcore_data.number_of_edges())\n",
        "kcore_data = from_networkx(kcore_data)\n",
        "kcore_data"
      ],
      "metadata": {
        "id": "KIVEeW1EdYIN",
        "colab": {
          "base_uri": "https://localhost:8080/"
        },
        "outputId": "1ee57394-c66b-4eb1-8133-662a9427b9ed"
      },
      "execution_count": 143,
      "outputs": [
        {
          "output_type": "stream",
          "name": "stdout",
          "text": [
            "180089 656152\n",
            "9430 246371\n"
          ]
        },
        {
          "output_type": "execute_result",
          "data": {
            "text/plain": [
              "Data(edge_index=[2, 246371], num_nodes=9430)"
            ]
          },
          "metadata": {},
          "execution_count": 143
        }
      ]
    },
    {
      "cell_type": "code",
      "source": [
        "train_data, val_data, test_data = RandomLinkSplit()(kcore_data)\n",
        "train_data, val_data, test_data"
      ],
      "metadata": {
        "colab": {
          "base_uri": "https://localhost:8080/"
        },
        "id": "lSnHPd8FeJ3Y",
        "outputId": "7c85fa11-aecc-45c0-d367-0f2537a969d5"
      },
      "execution_count": 144,
      "outputs": [
        {
          "output_type": "execute_result",
          "data": {
            "text/plain": [
              "(Data(edge_index=[2, 172460], num_nodes=9430, edge_label=[344920], edge_label_index=[2, 344920]),\n",
              " Data(edge_index=[2, 172460], num_nodes=9430, edge_label=[49274], edge_label_index=[2, 49274]),\n",
              " Data(edge_index=[2, 197097], num_nodes=9430, edge_label=[98548], edge_label_index=[2, 98548]))"
            ]
          },
          "metadata": {},
          "execution_count": 144
        }
      ]
    },
    {
      "cell_type": "markdown",
      "source": [
        "# define the loss function"
      ],
      "metadata": {
        "id": "cvRlDDkxgisX"
      }
    },
    {
      "cell_type": "code",
      "source": [
        "def bpr_loss(pos_similarities, neg_similarities):\n",
        "  return -torch.nn.functional.logsigmoid(pos_similarities - neg_similarities).mean()"
      ],
      "metadata": {
        "id": "m0NOxrAi5zSz"
      },
      "execution_count": 77,
      "outputs": []
    },
    {
      "cell_type": "markdown",
      "source": [
        "# define the model"
      ],
      "metadata": {
        "id": "yRG-JbDGgmTB"
      }
    },
    {
      "cell_type": "code",
      "source": [
        "class ModelGAT(LightGCN):\n",
        "  def __init__(self, **kwargs):\n",
        "    super().__init__(**kwargs)\n",
        "    self.convs = torch.nn.ModuleList([GATv2Conv(\n",
        "      in_channels=self.embedding_dim,\n",
        "      out_channels=self.embedding_dim,\n",
        "      # dropout=.2,\n",
        "      **kwargs,\n",
        "    ) for _ in range(self.num_layers)])\n",
        "    self.reset_parameters()\n",
        "  def forward(self, edge_index):\n",
        "    out = self.get_embedding(edge_index)\n",
        "    out_src = out[edge_index[0]]\n",
        "    out_dst = out[edge_index[1]]\n",
        "    return out_src, out_dst"
      ],
      "metadata": {
        "id": "YcbrRdYtIeD7"
      },
      "execution_count": 148,
      "outputs": []
    },
    {
      "cell_type": "markdown",
      "source": [
        "# train the model"
      ],
      "metadata": {
        "id": "Vd0O4Ff-gr-W"
      }
    },
    {
      "cell_type": "code",
      "source": [
        "train_loader = DataLoader(train_data.edge_index.T, batch_size=1024 * 200, shuffle=True)\n",
        "val_loader = DataLoader(val_data.edge_index.T, batch_size=1024 * 200, shuffle=False)"
      ],
      "metadata": {
        "id": "ogEs8PuTXoyU"
      },
      "execution_count": 145,
      "outputs": []
    },
    {
      "cell_type": "code",
      "source": [
        "data = data.to(device)"
      ],
      "metadata": {
        "id": "BP1woCNldZ4-"
      },
      "execution_count": 147,
      "outputs": []
    },
    {
      "cell_type": "code",
      "source": [
        "m = ModelGAT(\n",
        "    num_nodes=kcore_data.num_nodes,\n",
        "    embedding_dim=32,\n",
        "    num_layers=3,\n",
        ").to(device)\n",
        "optimizer = torch.optim.AdamW(m.parameters(), lr=1e-2, weight_decay=5e-4)"
      ],
      "metadata": {
        "id": "vIimQ4IfGyZU"
      },
      "execution_count": 157,
      "outputs": []
    },
    {
      "cell_type": "code",
      "source": [
        "train_losses = []\n",
        "val_losses = []\n",
        "\n",
        "def process(m, dataloader):\n",
        "  loss = 0\n",
        "  for batch in dataloader:\n",
        "    # batch of positive samples\n",
        "    batch = batch.T\n",
        "    # batch of negative samples\n",
        "    playlist_index, pos_track_index, neg_track_index = structured_negative_sampling(batch, contains_neg_self_loops=False)\n",
        "    neg_batch = torch.stack([playlist_index, neg_track_index], dim=0)\n",
        "    # get embeddings for playlist (src) and track (dst)\n",
        "    src, dst = m(torch.cat([batch, neg_batch], dim=1))\n",
        "    pos_src, pos_dst = src[:batch.shape[1]], dst[:batch.shape[1]]\n",
        "    neg_src, neg_dst = src[batch.shape[1]:], dst[batch.shape[1]:]\n",
        "    pos_similarities = (pos_src * pos_dst).sum(dim=-1)\n",
        "    neg_similarities = (neg_src * neg_dst).sum(dim=-1)\n",
        "    # calculate Bayesian personalized ranking loss\n",
        "    loss += bpr_loss(pos_similarities, neg_similarities)\n",
        "    # add regularization to favour unit vector\n",
        "    loss += .05 * (1 - (src * src).sum(dim=-1)).square().mean()\n",
        "    loss += .05 * (1 - (dst * dst).sum(dim=-1)).square().mean()\n",
        "  return loss\n",
        "\n",
        "m.train()\n",
        "for epoch in trange(300):\n",
        "  optimizer.zero_grad()\n",
        "  # train\n",
        "  train_loss = process(m, train_loader)\n",
        "  train_losses.append(train_loss.item())\n",
        "  # validate\n",
        "  with torch.no_grad():\n",
        "    val_loss = process(m, val_loader)\n",
        "  val_losses.append(val_loss.item())\n",
        "  # backpropagate\n",
        "  train_loss.backward()\n",
        "  optimizer.step()"
      ],
      "metadata": {
        "colab": {
          "base_uri": "https://localhost:8080/",
          "height": 49,
          "referenced_widgets": [
            "48e0b0f545d94a31b4ae58bbea6f6e52",
            "678d1e57ae3b447aadf67de89e70ab08",
            "6b920fe40546482895846505c8d890d1",
            "c8e4c30b411541969e1c0e1ec466452e",
            "7ead05df6678488ab3fa0a80a51d2b6a",
            "dcb4d12095a14e0aa344c73c36f57136",
            "e5c8355e673244f491774c5bfda3f7e9",
            "5af7a28b1a4540ed9729ae1923e6aac6",
            "9bee296fb48f40c6ad57278c2201894a",
            "282594a5d49041cca0de90c7a6f9fd4d",
            "7bdb162783874c70a8cfc32984379b4d"
          ]
        },
        "id": "NP-tc_6REnyh",
        "outputId": "4c1c13dc-b30e-42ba-9fb4-5573b3a5e945"
      },
      "execution_count": 158,
      "outputs": [
        {
          "output_type": "display_data",
          "data": {
            "text/plain": [
              "  0%|          | 0/300 [00:00<?, ?it/s]"
            ],
            "application/vnd.jupyter.widget-view+json": {
              "version_major": 2,
              "version_minor": 0,
              "model_id": "48e0b0f545d94a31b4ae58bbea6f6e52"
            }
          },
          "metadata": {}
        }
      ]
    },
    {
      "cell_type": "code",
      "source": [
        "print(train_losses[-1])\n",
        "pd.DataFrame({\n",
        "    'train': train_losses,\n",
        "    'val': val_losses,\n",
        "}).plot.line(logy=True);"
      ],
      "metadata": {
        "colab": {
          "base_uri": "https://localhost:8080/",
          "height": 448
        },
        "id": "zFRPtE8Z_RNs",
        "outputId": "dbd0c6de-6d10-4441-fba1-b3e0ddb6e1ed"
      },
      "execution_count": 159,
      "outputs": [
        {
          "output_type": "stream",
          "name": "stdout",
          "text": [
            "1.4224951267242432\n"
          ]
        },
        {
          "output_type": "display_data",
          "data": {
            "text/plain": [
              "<Figure size 640x480 with 1 Axes>"
            ],
            "image/png": "[encoded data removed]"
          },
          "metadata": {}
        }
      ]
    },
    {
      "cell_type": "code",
      "source": [
        "# k_core = 19\n",
        "# embedding_dim = 32\n",
        "# num_layers = 3\n",
        "# max_epochs = 300\n",
        "\n",
        "m.eval()\n",
        "with torch.no_grad():\n",
        "  for d in [train_data, val_data, test_data]:\n",
        "    pos_edges = d.edge_index\n",
        "    node_index, positive_track_index, negative_track_index = structured_negative_sampling(d.edge_index)\n",
        "    neg_edges = torch.stack([node_index, negative_track_index], dim=0)\n",
        "    all_edges = torch.cat([pos_edges, neg_edges], axis=1)\n",
        "    src, dst = m(all_edges)\n",
        "    p = (src * dst).sum(dim=-1).sigmoid()\n",
        "    print('pos loss value:', float((src[:pos_edges.shape[1]] * dst[:pos_edges.shape[1]]).sum(dim=-1).mean()))\n",
        "    print('neg loss value:', float((src[-neg_edges.shape[1]:] * dst[-neg_edges.shape[1]:]).sum(dim=-1).mean()))\n",
        "    print('loss value:', float((src * dst).sum(dim=-1).mean()))\n",
        "    print('length:', float(torch.cat([(src * src).sum(dim=-1),(dst * dst).sum(dim=-1)], dim=0).mean()))\n",
        "    print('roc auc score:', sk.metrics.roc_auc_score([1] * pos_edges.shape[1] + [0] * neg_edges.shape[1], p))\n",
        "    print(sk.metrics.classification_report([True] * pos_edges.shape[1] + [False] * neg_edges.shape[1], p >= .5))"
      ],
      "metadata": {
        "colab": {
          "base_uri": "https://localhost:8080/"
        },
        "id": "UHQvMenRjIpf",
        "outputId": "dbb36646-ffdc-4ec0-9ca5-90843dd65d5c"
      },
      "execution_count": 160,
      "outputs": [
        {
          "output_type": "stream",
          "name": "stdout",
          "text": [
            "pos loss value: 1.2718284130096436\n",
            "neg loss value: -0.001100136199966073\n",
            "loss value: 0.6353641152381897\n",
            "length: 1.6229525804519653\n",
            "roc auc score: 0.9212131780690198\n",
            "              precision    recall  f1-score   support\n",
            "\n",
            "       False       0.97      0.54      0.69    172460\n",
            "        True       0.68      0.98      0.80    172460\n",
            "\n",
            "    accuracy                           0.76    344920\n",
            "   macro avg       0.82      0.76      0.75    344920\n",
            "weighted avg       0.82      0.76      0.75    344920\n",
            "\n",
            "pos loss value: 1.2672481536865234\n",
            "neg loss value: 0.0023156460374593735\n",
            "loss value: 0.6347818970680237\n",
            "length: 1.6169487237930298\n",
            "roc auc score: 0.9207173515245797\n",
            "              precision    recall  f1-score   support\n",
            "\n",
            "       False       0.97      0.54      0.69    172460\n",
            "        True       0.68      0.98      0.80    172460\n",
            "\n",
            "    accuracy                           0.76    344920\n",
            "   macro avg       0.82      0.76      0.75    344920\n",
            "weighted avg       0.82      0.76      0.75    344920\n",
            "\n",
            "pos loss value: 1.263938307762146\n",
            "neg loss value: 0.0017937341472133994\n",
            "loss value: 0.6328660249710083\n",
            "length: 1.6203933954238892\n",
            "roc auc score: 0.9183739144337142\n",
            "              precision    recall  f1-score   support\n",
            "\n",
            "       False       0.97      0.54      0.69    197097\n",
            "        True       0.68      0.98      0.80    197097\n",
            "\n",
            "    accuracy                           0.76    394194\n",
            "   macro avg       0.82      0.76      0.75    394194\n",
            "weighted avg       0.82      0.76      0.75    394194\n",
            "\n"
          ]
        }
      ]
    },
    {
      "cell_type": "code",
      "source": [
        "# k_core = 19\n",
        "# embedding_dim = 32\n",
        "# num_layers = 1\n",
        "# max_epochs = 300\n",
        "\n",
        "m.eval()\n",
        "with torch.no_grad():\n",
        "  for d in [train_data, val_data, test_data]:\n",
        "    pos_edges = d.edge_index\n",
        "    node_index, positive_track_index, negative_track_index = structured_negative_sampling(d.edge_index)\n",
        "    neg_edges = torch.stack([node_index, negative_track_index], dim=0)\n",
        "    all_edges = torch.cat([pos_edges, neg_edges], axis=1)\n",
        "    src, dst = m(all_edges)\n",
        "    p = (src * dst).sum(dim=-1).sigmoid()\n",
        "    print('pos loss value:', float((src[:pos_edges.shape[1]] * dst[:pos_edges.shape[1]]).sum(dim=-1).mean()))\n",
        "    print('neg loss value:', float((src[-neg_edges.shape[1]:] * dst[-neg_edges.shape[1]:]).sum(dim=-1).mean()))\n",
        "    print('loss value:', float((src * dst).sum(dim=-1).mean()))\n",
        "    print('length:', float(torch.cat([(src * src).sum(dim=-1),(dst * dst).sum(dim=-1)], dim=0).mean()))\n",
        "    print('roc auc score:', sk.metrics.roc_auc_score([1] * pos_edges.shape[1] + [0] * neg_edges.shape[1], p))\n",
        "    print(sk.metrics.classification_report([True] * pos_edges.shape[1] + [False] * neg_edges.shape[1], p >= .5))"
      ],
      "metadata": {
        "colab": {
          "base_uri": "https://localhost:8080/"
        },
        "id": "tT_VsKZ_uQZ7",
        "outputId": "40d7c12a-8d1e-436b-eb35-1c414b6f6423"
      },
      "execution_count": 156,
      "outputs": [
        {
          "output_type": "stream",
          "name": "stdout",
          "text": [
            "pos loss value: 1.2050354480743408\n",
            "neg loss value: 0.009099641814827919\n",
            "loss value: 0.6070674657821655\n",
            "length: 1.557638168334961\n",
            "roc auc score: 0.9354993933822188\n",
            "              precision    recall  f1-score   support\n",
            "\n",
            "       False       0.98      0.55      0.71    172460\n",
            "        True       0.69      0.99      0.81    172460\n",
            "\n",
            "    accuracy                           0.77    344920\n",
            "   macro avg       0.83      0.77      0.76    344920\n",
            "weighted avg       0.83      0.77      0.76    344920\n",
            "\n",
            "pos loss value: 1.2045111656188965\n",
            "neg loss value: 0.00933093298226595\n",
            "loss value: 0.6069210171699524\n",
            "length: 1.5569969415664673\n",
            "roc auc score: 0.9350802902710279\n",
            "              precision    recall  f1-score   support\n",
            "\n",
            "       False       0.98      0.55      0.71    172460\n",
            "        True       0.69      0.99      0.81    172460\n",
            "\n",
            "    accuracy                           0.77    344920\n",
            "   macro avg       0.83      0.77      0.76    344920\n",
            "weighted avg       0.83      0.77      0.76    344920\n",
            "\n",
            "pos loss value: 1.1923019886016846\n",
            "neg loss value: 0.00902970414608717\n",
            "loss value: 0.6006658673286438\n",
            "length: 1.5480166673660278\n",
            "roc auc score: 0.933510871501692\n",
            "              precision    recall  f1-score   support\n",
            "\n",
            "       False       0.98      0.55      0.70    197097\n",
            "        True       0.69      0.99      0.81    197097\n",
            "\n",
            "    accuracy                           0.77    394194\n",
            "   macro avg       0.83      0.77      0.76    394194\n",
            "weighted avg       0.83      0.77      0.76    394194\n",
            "\n"
          ]
        }
      ]
    }
  ]
}